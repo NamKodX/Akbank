{
 "cells": [
  {
   "cell_type": "markdown",
   "id": "64872b07",
   "metadata": {},
   "source": [
    "# GLOBAL AI HUB Akbank Python Bootcamp"
   ]
  },
  {
   "cell_type": "markdown",
   "id": "9e10298c",
   "metadata": {},
   "source": [
    "# Project : Pizza Ordering System \n",
    "## By : NamKodX | Namıkcan Gölova"
   ]
  },
  {
   "cell_type": "markdown",
   "id": "3afbc986",
   "metadata": {},
   "source": [
    "# 1.Project Overview"
   ]
  },
  {
   "cell_type": "markdown",
   "id": "e8861475",
   "metadata": {},
   "source": [
    "Pizzacı Dükkanı mı açmak istiyorsunuz? O zaman bu proje hayalinizdeki proje olabilir. Proje, kullanıcıların kendi pizzalarını tasarlamalarını ve ödeme yaptıktan sonra kullanıcıyı veri tabanına eklemelerini hedefliyor. Peki bu projede ne tür görevlerimiz var?\n",
    "\n",
    "Sistem, kullanıcıların menüdeki pizzayı ve istedikleri sosu seçmesiyle başlar. İkinci aşama olarak seçtikleri sos ve pizzayı seçtikten sonra ödemeye kısmına geçiş yaparlar. Kullanıcılar ödemelerini kredi kartı ile yapacaktır. Her pizzanın bir açıklaması ve fiyatı vardır. AÇıklama ve fiyat sınıflar içinde sabit bir değer olarak ayarlanması gerektiğine dikkat edin.\n"
   ]
  },
  {
   "cell_type": "markdown",
   "id": "3fe686a0",
   "metadata": {},
   "source": [
    "Projeyi birden çok şekilde yapabiliriz.\n",
    "1. Daha gelişmiş bir proje için veri manipulation vb. kütüphaneler kullanılabilir\n",
    "2. Arayüz tasarımı için aşağıdaki kütüphaneler eklenenilip kullanılabilir:\n",
    "- PyGTK\n",
    "- PyQt\n",
    "- wxPython\n",
    "- Tkinter"
   ]
  },
  {
   "cell_type": "markdown",
   "id": "967810c5",
   "metadata": {},
   "source": [
    "Ben daha basit olsun diye birde Tkinter kullanacağız ve bunu yaparkende Tkinter konu anlatımı olarak kendimin hazırladığı uygulamalar ve açıklamalarla dolu python notebook'unu sizlerle paylaşıyor olacağım"
   ]
  },
  {
   "cell_type": "markdown",
   "id": "8bf4a284",
   "metadata": {},
   "source": [
    "### Proje yapısından çıkmamaya, talimatlara uyarak projeyi tamamlamaya çalışalım"
   ]
  },
  {
   "cell_type": "markdown",
   "id": "35ff37f4",
   "metadata": {},
   "source": [
    "Projenin dosyası ekte yer almaktadır"
   ]
  },
  {
   "cell_type": "markdown",
   "id": "8a1af530",
   "metadata": {},
   "source": [
    "# 2.Gerekli Kütüphaneleri İçe Aktarma"
   ]
  },
  {
   "cell_type": "markdown",
   "id": "f4bc648d",
   "metadata": {},
   "source": [
    "Pythonda kütüphaneleri import yapısı ile içeri aktarıp as ile farklı isimle kayıt alma yapılabilir"
   ]
  },
  {
   "cell_type": "code",
   "execution_count": 81,
   "id": "9bded426",
   "metadata": {},
   "outputs": [],
   "source": [
    "import csv                    #csv kütüphanesin içeri aktardik\n",
    "import datetime as dt         #datetime kütüphanesini dt olarak içeri aktardık"
   ]
  },
  {
   "cell_type": "markdown",
   "id": "38600185",
   "metadata": {},
   "source": [
    "# 3.“menu.txt” dosyasını oluşturma"
   ]
  },
  {
   "cell_type": "markdown",
   "id": "1e13d5bd",
   "metadata": {},
   "source": [
    "Bizden projede menu.txt dosyası oluşturup aşağıdaki metni içeri yazmamızı söylüyor"
   ]
  },
  {
   "cell_type": "markdown",
   "id": "e44439ea",
   "metadata": {},
   "source": [
    "- Lütfen Bir Pizza Tabanı Seçiniz:\n",
    "1. Klasik\n",
    "2. Margarita\n",
    "3. TürkPizza\n",
    "4. Sade Pizza\n",
    "- ve seçeceğiniz sos:\n",
    "11. Zeytin\n",
    "12. Mantarlar\n",
    "13. Keçi Peyniri\n",
    "14. Et\n",
    "15. Soğan\n",
    "16. Mısır\n",
    "* Teşekkür ederiz!"
   ]
  },
  {
   "cell_type": "markdown",
   "id": "029ac88c",
   "metadata": {},
   "source": [
    "Biz bu yazıları nasıl menu.txt olarak kaydedebiliriz ki?\n",
    "- Beginner gibi yeni menu.txt dosyası açıp içerisine yazmamız gerekeni yazmak mı\n",
    "- intermediate gibi klasik olarak kod yazarak içeri aktarmak mı\n",
    "- Yoksa bir expert gibi bu işlevleri veri manipülasyonu kullanarak bir excele kaydetmek mi"
   ]
  },
  {
   "cell_type": "markdown",
   "id": "64f003b1",
   "metadata": {},
   "source": [
    "Aslında ben expert olanın daha güzel olacağını düşünüyorum. Lakin biz projeden sapmamak için mecburen kodlama kullanarak menu.txt metin dosyasını içeriye aktaracağız :C"
   ]
  },
  {
   "cell_type": "markdown",
   "id": "3a5f40da",
   "metadata": {},
   "source": [
    "Genel yapısını kullanırsak dosya açıp içeriğini düzenleyebiliriz\n",
    "- open(\"dosya_adi.uzantı\",\"kod\",encoding=\"utf-8\")\n",
    "#####  Kod türleri\n",
    "1. \"r\" - Okuma, varsayılan değerdir, dosyayı okumak için açar. Dosya yoksa hata verir.\n",
    "2. \"a\" - Ekleme, dosyayı veri eklemek için açar, dosya yoksa yeni bir tane oluşturur.\n",
    "3. \"w\" - Yazma, dosyayı yazmak için açar, dosya yoksa yeni bir tane oluşturur.\n",
    "4. \"x\" - Oluşturma, zaten bir dosya varsa hata verir."
   ]
  },
  {
   "cell_type": "markdown",
   "id": "e5b62761",
   "metadata": {},
   "source": [
    "Biz burada w kodunu kullanırsak yeterli olacaktır"
   ]
  },
  {
   "cell_type": "markdown",
   "id": "b2b0e0ce",
   "metadata": {},
   "source": [
    ".write(\"Yazılacak ifade\") yapısı ile içeriye yazı yazdırabiliriz"
   ]
  },
  {
   "cell_type": "code",
   "execution_count": 82,
   "id": "491dc788",
   "metadata": {},
   "outputs": [],
   "source": [
    "with open('Menu.txt', 'w',encoding=\"utf-8\") as menu:         #Dosyayı yarattık ve menu olarak içeri aktardık ki yazma yapalım\n",
    "    menu.write('* Lütfen Bir Pizza Tabanı Seçiniz: \\n')\n",
    "    menu.write('1: Klasik \\n')\n",
    "    menu.write('2: Margarita \\n')\n",
    "    menu.write('3: TürkPizza \\n')\n",
    "    menu.write('4: Sade Pizza \\n')\n",
    "    menu.write('* ve seçeceğiniz sos: \\n')\n",
    "    menu.write('11: Zeytin \\n')\n",
    "    menu.write('12: Mantarlar \\n')\n",
    "    menu.write('13: Keçi Peyniri \\n')\n",
    "    menu.write('14: Et \\n')\n",
    "    menu.write('15: Soğan \\n')\n",
    "    menu.write('16: Mısır \\n')\n",
    "    menu.write('* Teşekkür ederiz!')"
   ]
  },
  {
   "cell_type": "markdown",
   "id": "d7320ffb",
   "metadata": {},
   "source": [
    "encoding = \"utf-8\" yapısı ile dillere uyumluluk sağladık"
   ]
  },
  {
   "cell_type": "markdown",
   "id": "b0cc4037",
   "metadata": {},
   "source": [
    "##### Şimdi gelin dosya içeriğini ekrana yazdıralım\n",
    "Bunun için dosya kodu türü r olmalıdır"
   ]
  },
  {
   "cell_type": "code",
   "execution_count": 83,
   "id": "99469530",
   "metadata": {},
   "outputs": [
    {
     "name": "stdout",
     "output_type": "stream",
     "text": [
      "* LÃ¼tfen Bir Pizza TabanÄ± SeÃ§iniz: \n",
      "1: Klasik \n",
      "2: Margarita \n",
      "3: TÃ¼rkPizza \n",
      "4: Sade Pizza \n",
      "* ve seÃ§eceÄŸiniz sos: \n",
      "11: Zeytin \n",
      "12: Mantarlar \n",
      "13: KeÃ§i Peyniri \n",
      "14: Et \n",
      "15: SoÄŸan \n",
      "16: MÄ±sÄ±r \n",
      "* TeÅŸekkÃ¼r ederiz!\n"
     ]
    }
   ],
   "source": [
    "dosya = open(\"Menu.txt\", \"r\")\n",
    "dosya_icerigi = dosya.read()\n",
    "dosya.close()\n",
    "\n",
    "print(dosya_icerigi)"
   ]
  },
  {
   "cell_type": "markdown",
   "id": "d32f021a",
   "metadata": {},
   "source": [
    "Farkettiyseniz bozuk şekilde yazdırdı bunun sebebi encoding=\"utf-8\" olarak açmadık.Türkçe karakterlere özellikle dikkat etmeliyiz utf-8 olmadığı yerlerde  "
   ]
  },
  {
   "cell_type": "code",
   "execution_count": 84,
   "id": "196775aa",
   "metadata": {},
   "outputs": [
    {
     "name": "stdout",
     "output_type": "stream",
     "text": [
      "* Lütfen Bir Pizza Tabanı Seçiniz: \n",
      "1: Klasik \n",
      "2: Margarita \n",
      "3: TürkPizza \n",
      "4: Sade Pizza \n",
      "* ve seçeceğiniz sos: \n",
      "11: Zeytin \n",
      "12: Mantarlar \n",
      "13: Keçi Peyniri \n",
      "14: Et \n",
      "15: Soğan \n",
      "16: Mısır \n",
      "* Teşekkür ederiz!\n"
     ]
    }
   ],
   "source": [
    "dosya = open(\"Menu.txt\", \"r\",encoding=\"utf-8\")\n",
    "dosya_icerigi = dosya.read()\n",
    "dosya.close()\n",
    "\n",
    "print(dosya_icerigi)"
   ]
  },
  {
   "cell_type": "markdown",
   "id": "deeecd5a",
   "metadata": {},
   "source": [
    "# 4.Üst sınıf oluştur \"pizza\""
   ]
  },
  {
   "cell_type": "markdown",
   "id": "0f424905",
   "metadata": {},
   "source": [
    "Pizza sınıfını ve bu sınıfın içindeki encapsulation(kapsülleme) için get_description() ve get_cost() methodları tanımlayın\n",
    "##### NOT: Bu açıklama hazırlanan pizzanın kısa bir açıklaması olmalıdır!"
   ]
  },
  {
   "cell_type": "markdown",
   "id": "ea28127e",
   "metadata": {},
   "source": [
    "pizza sınıfı oluşturup içerisine çeşitli fonksiyonlar oluşturalım"
   ]
  },
  {
   "cell_type": "code",
   "execution_count": 18,
   "id": "1347d413",
   "metadata": {},
   "outputs": [],
   "source": [
    "class pizza:\n",
    "    def __init__(self, description, cost):  #Yapıcı init fonksiyonu\n",
    "        self.__description = description\n",
    "        self.__cost = cost\n",
    "\n",
    "    def get_description(self):             #Pizza açıklaması için fonksiyon\n",
    "        return self.__description\n",
    "\n",
    "    def get_cost(self):                    #Pizza bedeli için fonksiyon\n",
    "        return self.__cost"
   ]
  },
  {
   "cell_type": "markdown",
   "id": "21b4256a",
   "metadata": {},
   "source": [
    "# 5.Alt sınıf oluştur “pizza”"
   ]
  },
  {
   "cell_type": "markdown",
   "id": "29392dde",
   "metadata": {},
   "source": [
    "Klasik, Margherita, Türk Pizzası, Dominos Pizza vb. pizza sınıfları oluşturun. Bu pizza türlerinin her biri bir pizza türü olduğu için bu sınıflar alt sınıflar olarak tanımlanacaktır.\n",
    "##### Not:Her pizzanın kendine ait bir fiyatı ve sahip olduğu değişkenin içinde pizzaların açıklamasının yer alması gerektiğini unutmayın."
   ]
  },
  {
   "cell_type": "markdown",
   "id": "1011339e",
   "metadata": {},
   "source": [
    "Her pizza türü için açıklama ve fiyat bilgisi veren sınıflar üretelim"
   ]
  },
  {
   "cell_type": "markdown",
   "id": "889aac45",
   "metadata": {},
   "source": [
    "Pizza türleri parametre olarak yukarıda tanımlanan ana pizza clasından miras alır"
   ]
  },
  {
   "cell_type": "markdown",
   "id": "317bda8e",
   "metadata": {},
   "source": [
    "Pizza türlerinin sınıflarında yer alacaklar:\n",
    "- description: Malzeme bilgisi\n",
    "- cost : Fiyat bilgisi : float olarak almak için virgüllü şekildedir "
   ]
  },
  {
   "cell_type": "markdown",
   "id": "2bb8a8c8",
   "metadata": {},
   "source": [
    "##### TurkPizza "
   ]
  },
  {
   "cell_type": "code",
   "execution_count": 19,
   "id": "b5bc5a86",
   "metadata": {},
   "outputs": [],
   "source": [
    "class TurkPizza(pizza):\n",
    "    def __init__(self, description,cost):\n",
    "        description = \"Türk Pizza : Domates sos, kaşar, zeytinyağı, fesleğen, sucuk, biber, sarımsak, baharatlar\"\n",
    "        cost = 20.0\n",
    "        pizza.__init__(self,description, cost)"
   ]
  },
  {
   "cell_type": "markdown",
   "id": "4a616486",
   "metadata": {},
   "source": [
    "##### Klasik Pizza"
   ]
  },
  {
   "cell_type": "code",
   "execution_count": 20,
   "id": "8e55279b",
   "metadata": {},
   "outputs": [],
   "source": [
    "class Klasik(pizza):\n",
    "    def __init__(self, description,cost):\n",
    "        description = \"Klasik Pizza : Domates, mozzarella, fesleğen\"\n",
    "        cost = 30.0\n",
    "        pizza.__init__(self,description, cost)"
   ]
  },
  {
   "cell_type": "markdown",
   "id": "cc29219a",
   "metadata": {},
   "source": [
    "##### Margherita Pizza"
   ]
  },
  {
   "cell_type": "code",
   "execution_count": 21,
   "id": "370fe1d6",
   "metadata": {},
   "outputs": [],
   "source": [
    "class Margherita(pizza):\n",
    "    def __init__(self, description,cost):\n",
    "        description = \"Margherita Pizza : Domates, mozarella, fesleğen, zeytinyağı ve baharatlar\"\n",
    "        cost = 35.0\n",
    "        pizza.__init__(self,description, cost)"
   ]
  },
  {
   "cell_type": "markdown",
   "id": "e8b4d3d7",
   "metadata": {},
   "source": [
    "##### DominosPizza"
   ]
  },
  {
   "cell_type": "code",
   "execution_count": 22,
   "id": "6737f98a",
   "metadata": {},
   "outputs": [],
   "source": [
    "class DominosPizza(pizza):\n",
    "    def __init__(self, description,cost):\n",
    "        description = \"Dominos Pizza : Kaşar, sucuk, salam, domates, biber, zeytin, mantar, mısır ve baharatlar\"\n",
    "        cost = 40.0\n",
    "        pizza.__init__(self,description, cost)"
   ]
  },
  {
   "cell_type": "markdown",
   "id": "749f3465",
   "metadata": {},
   "source": [
    "##### Vegan Pizza"
   ]
  },
  {
   "cell_type": "code",
   "execution_count": 23,
   "id": "53b94f88",
   "metadata": {},
   "outputs": [],
   "source": [
    "class VeganPizza(pizza):\n",
    "    def __init__(self, description,cost):\n",
    "        description = \"Vegan Pizza : Mantar, soğan, sarımsak, kurutulmuş domates, biber, zeytiyağı, patlıcan, mısır ve baharatlar\"\n",
    "        cost = 35.0\n",
    "        pizza.__init__(self,description, cost)"
   ]
  },
  {
   "cell_type": "markdown",
   "id": "d323eeed",
   "metadata": {},
   "source": [
    "# 6.Üst sınıf oluştur “Decorator”"
   ]
  },
  {
   "cell_type": "markdown",
   "id": "15a5177a",
   "metadata": {},
   "source": [
    "Bir decorator sınıfı oluşturun. decorator, burada tüm sos sınıflarının süper sınıfı olarak adlandırılır."
   ]
  },
  {
   "cell_type": "markdown",
   "id": "b1b80168",
   "metadata": {},
   "source": [
    "decorator sınıfı, pizza sınıfının özelliklerini kullanarak get_description() ve get_cost() yöntemlerini kullanacaktır. Aşağıdaki yöntemleri kullanarak decorator sınıfını tamamlayın."
   ]
  },
  {
   "cell_type": "markdown",
   "id": "34d63d70",
   "metadata": {},
   "source": [
    "Burada yapacağımız şey decorator sınıfı oluşturmak bu sınıf pizza sınıfının alt sınıfı olacak sosların süper sınıfı olacak "
   ]
  },
  {
   "cell_type": "markdown",
   "id": "4c0720f3",
   "metadata": {},
   "source": [
    " İçerisinde get_cost() ve get_description() fonksiyonları yer alacaktır "
   ]
  },
  {
   "cell_type": "code",
   "execution_count": 128,
   "id": "1fe2e179",
   "metadata": {},
   "outputs": [],
   "source": [
    "class decorator(pizza):\n",
    "    def __init__(self,sauce, cost,  description):\n",
    "        self.__cost = cost \n",
    "        self.__description = description\n",
    "        self.sauce = sauce\n",
    "        pizza.__init__(self, cost, description)\n",
    "        \n",
    "    def get_cost(self):\n",
    "        return pizza.cost(self) + self.sauce.cost() \n",
    "   \n",
    "    def get_description(self):\n",
    "        return pizza.description(self) + ' ' + self.sauce.description()"
   ]
  },
  {
   "cell_type": "markdown",
   "id": "9c29a723",
   "metadata": {},
   "source": [
    "Aşağıdaki kodları kapsülleme yapmak için yaptık\n",
    "- self.__cost = cost \n",
    "- self.__description = description"
   ]
  },
  {
   "cell_type": "markdown",
   "id": "88377b02",
   "metadata": {},
   "source": [
    "Aşağıdaki kodlar pizza sınıfından miras alınanlar\n",
    "- pizza.__init__(self, cost, description)"
   ]
  },
  {
   "cell_type": "markdown",
   "id": "898e893f",
   "metadata": {},
   "source": [
    "Aşağıdaki kodlar pizza ve sosların fiyatlarını toplar\n",
    "- return self.sauce.get_cost() + pizza.get_cost(self)"
   ]
  },
  {
   "cell_type": "markdown",
   "id": "2cd93ab0",
   "metadata": {},
   "source": [
    "Aşağıdaki kodlar pizza ve sosların özelliklerinin yazılmasını sağlar\n",
    "- return pizza.get_description(self) + ' ' + self.sauce.get_description()"
   ]
  },
  {
   "cell_type": "markdown",
   "id": "63ddccd7",
   "metadata": {},
   "source": [
    "# 7.Sosların sınıflarının tanımlanması"
   ]
  },
  {
   "cell_type": "markdown",
   "id": "a6d11174",
   "metadata": {},
   "source": [
    "Sos olarak Zeytin, Mantar, Keçi Peyniri, Et, Soğan ve Mısır'ı belirleyin ve belirlediğiniz sosların her birini bir sınıf olarak tanımlayın."
   ]
  },
  {
   "cell_type": "markdown",
   "id": "cf566e58",
   "metadata": {},
   "source": [
    "Unutmayın ki her sosun kendine ait bir fiyatı ve değişken olarak her bir pizzanın açıklaması olması gerekir."
   ]
  },
  {
   "cell_type": "markdown",
   "id": "e70872fe",
   "metadata": {},
   "source": [
    "Aşağıdaki kod Decorator sınıfından miras almamızı sağlar\n",
    "- decorator.__init__(self, sauce, cost, description)"
   ]
  },
  {
   "cell_type": "markdown",
   "id": "2ef96a5c",
   "metadata": {},
   "source": [
    "Soslar decorator sınıfının alt sınıfı olmalıdır "
   ]
  },
  {
   "cell_type": "markdown",
   "id": "e5c8f7d1",
   "metadata": {},
   "source": [
    "decorator sınıfı da pizza sınıfının alt sınıfıdır"
   ]
  },
  {
   "cell_type": "markdown",
   "id": "bb54c9a0",
   "metadata": {},
   "source": [
    "##### Zeytin sosu sınıfı"
   ]
  },
  {
   "cell_type": "code",
   "execution_count": 92,
   "id": "58c0abf8",
   "metadata": {},
   "outputs": [],
   "source": [
    "class Zeytin(decorator):\n",
    "    def __init__(self,sauce):\n",
    "        description = \"Zeytin\"\n",
    "        cost = 3\n",
    "        decorator.__init__(self, sauce, cost, description)"
   ]
  },
  {
   "cell_type": "markdown",
   "id": "81628f28",
   "metadata": {},
   "source": [
    "##### Mantar sosu sınıfı"
   ]
  },
  {
   "cell_type": "code",
   "execution_count": 93,
   "id": "f144fefd",
   "metadata": {},
   "outputs": [],
   "source": [
    "class Mantar(decorator):\n",
    "    def __init__(self,sauce):\n",
    "        description = \"Mantar\"\n",
    "        cost = 5\n",
    "        decorator.__init__(self, sauce, cost, description)"
   ]
  },
  {
   "cell_type": "markdown",
   "id": "14dc8ef6",
   "metadata": {},
   "source": [
    "##### Et sosu sınıfı"
   ]
  },
  {
   "cell_type": "code",
   "execution_count": 94,
   "id": "262ba1f5",
   "metadata": {},
   "outputs": [],
   "source": [
    "class Et(decorator):\n",
    "    def __init__(self,sauce):\n",
    "        description = \"Et\"\n",
    "        cost = 10\n",
    "        decorator.__init__(self, sauce, cost, description)"
   ]
  },
  {
   "cell_type": "markdown",
   "id": "7bb01914",
   "metadata": {},
   "source": [
    "##### Keçi peyniri sosu sınıfı"
   ]
  },
  {
   "cell_type": "code",
   "execution_count": 95,
   "id": "fb168555",
   "metadata": {},
   "outputs": [],
   "source": [
    "class KeciPeynir(decorator):\n",
    "    def __init__(self,sauce):\n",
    "        description = \"Keci Peyniri\"\n",
    "        cost = 7\n",
    "        decorator.__init__(self, sauce, cost, description)"
   ]
  },
  {
   "cell_type": "markdown",
   "id": "006e2f71",
   "metadata": {},
   "source": [
    "##### Mısır sosu sınıfı"
   ]
  },
  {
   "cell_type": "code",
   "execution_count": 96,
   "id": "5ea5c45a",
   "metadata": {},
   "outputs": [],
   "source": [
    "class Misir(decorator):\n",
    "    def __init__(self,sauce):\n",
    "        description = \"Misir\"\n",
    "        cost = 5\n",
    "        decorator.__init__(self, sauce, cost, description)"
   ]
  },
  {
   "cell_type": "markdown",
   "id": "768b8844",
   "metadata": {},
   "source": [
    "##### Soğan sosu sınıfı"
   ]
  },
  {
   "cell_type": "code",
   "execution_count": 97,
   "id": "ad75f0fb",
   "metadata": {},
   "outputs": [],
   "source": [
    "class Sogan(decorator):\n",
    "    def __init__(self,sauce):\n",
    "        description = \"Sogan\"\n",
    "        cost = 3\n",
    "        decorator.__init__(self, sauce, cost, description)"
   ]
  },
  {
   "cell_type": "markdown",
   "id": "ce8af995",
   "metadata": {},
   "source": [
    "# 8.Proje arayüzü tasarlama"
   ]
  },
  {
   "cell_type": "markdown",
   "id": "0a7a6a90",
   "metadata": {},
   "source": [
    "Arayüz için tkinter kullanacağız ve opencv gibi kütüphaneler ile adımların fotoğraflarını buraya koyabileceğiz ekstra olarak"
   ]
  },
  {
   "cell_type": "markdown",
   "id": "52538b95",
   "metadata": {},
   "source": [
    "Yapıyı nasıl kuracağımıza bakarsak pizzalar için radio soslar için ise checkbox kullanılmalıdır "
   ]
  },
  {
   "cell_type": "markdown",
   "id": "eda07aca",
   "metadata": {},
   "source": [
    "İstediğimiz menüden seçildikten sonra ödeme ekranı gelip gerekli bilgiler alınarak sipariş tamamlanıp csv kütüphanesi ile içeri aktarılacaktır bilgiler"
   ]
  },
  {
   "cell_type": "markdown",
   "id": "f4d84371",
   "metadata": {},
   "source": [
    "## Gerekli kütüphanelerin içeri aktarılması"
   ]
  },
  {
   "cell_type": "code",
   "execution_count": 1,
   "id": "7388c428",
   "metadata": {},
   "outputs": [],
   "source": [
    "import tkinter as tk    #Tkinter kütüphane içeri aktarılması\n",
    "import cv2 as cv        #OpenCv kütüphanesinin içeri aktarılması\n",
    "import matplotlib.pyplot as plt"
   ]
  },
  {
   "cell_type": "markdown",
   "id": "65bd8da7",
   "metadata": {},
   "source": [
    "Öncelikle tkinter yapımızı tasarlayalım"
   ]
  },
  {
   "cell_type": "code",
   "execution_count": 99,
   "id": "5edb8d39",
   "metadata": {},
   "outputs": [],
   "source": [
    "siparis = tk.Tk()\n",
    "siparis.title(\"Pizza Sipariş Ekranı\")\n",
    "siparis.geometry(\"800x500+80+110\")\n",
    "siparis.maxsize(800,600)\n",
    "siparis.config(bg=\"green\")\n",
    "\n",
    "siparis.mainloop()"
   ]
  },
  {
   "cell_type": "markdown",
   "id": "f5387fa2",
   "metadata": {},
   "source": [
    "Yukarıdaki işlem siparis sayfasının ana tasarımıdır"
   ]
  },
  {
   "cell_type": "code",
   "execution_count": 100,
   "id": "c6b0269c",
   "metadata": {},
   "outputs": [
    {
     "data": {
      "text/plain": [
       "<matplotlib.image.AxesImage at 0x2b0306d5220>"
      ]
     },
     "execution_count": 100,
     "metadata": {},
     "output_type": "execute_result"
    },
    {
     "data": {
      "image/png": "[encoded data removed]",
      "text/plain": [
       "<Figure size 432x288 with 1 Axes>"
      ]
     },
     "metadata": {
      "needs_background": "light"
     },
     "output_type": "display_data"
    }
   ],
   "source": [
    "siparis = cv.imread(\"1.png\")\n",
    "plt.imshow(siparis)"
   ]
  },
  {
   "cell_type": "code",
   "execution_count": 101,
   "id": "f5385426",
   "metadata": {},
   "outputs": [],
   "source": [
    "odeme = tk.Tk()\n",
    "odeme.title(\"Pizza Ödeme Ekranı\")\n",
    "odeme.geometry(\"800x500+80+110\")\n",
    "odeme.maxsize(800,600)\n",
    "odeme.config(bg=\"red\")\n",
    "\n",
    "odeme.mainloop()"
   ]
  },
  {
   "cell_type": "markdown",
   "id": "3b9750a9",
   "metadata": {},
   "source": [
    "Yukarıdaki işlem ödeme sayfasının ana tasarımıdır"
   ]
  },
  {
   "cell_type": "code",
   "execution_count": 102,
   "id": "3968733e",
   "metadata": {},
   "outputs": [
    {
     "data": {
      "text/plain": [
       "<matplotlib.image.AxesImage at 0x2b030a9d070>"
      ]
     },
     "execution_count": 102,
     "metadata": {},
     "output_type": "execute_result"
    },
    {
     "data": {
      "image/png": "[encoded data removed]",
      "text/plain": [
       "<Figure size 432x288 with 1 Axes>"
      ]
     },
     "metadata": {
      "needs_background": "light"
     },
     "output_type": "display_data"
    }
   ],
   "source": [
    "odeme = cv.imread(\"2.png\")\n",
    "odeme = cv.cvtColor(odeme,cv.COLOR_BGR2RGB)\n",
    "plt.imshow(odeme)"
   ]
  },
  {
   "cell_type": "markdown",
   "id": "351507d1",
   "metadata": {},
   "source": [
    "Şimdi içeriği düzenlemeye koyulalım"
   ]
  },
  {
   "cell_type": "code",
   "execution_count": 103,
   "id": "8512328d",
   "metadata": {},
   "outputs": [],
   "source": [
    "siparis = tk.Tk()\n",
    "siparis.title(\"Pizza Sipariş Ekranı\")\n",
    "siparis.geometry(\"800x500+80+110\")\n",
    "siparis.maxsize(800,600)\n",
    "siparis.config(bg=\"green\")\n",
    "\n",
    "label = tk.Label(siparis,text=\"⚛︎ Bilim Pizza Sipariş Noktası ⚛︎\",bg=\"orange\",fg=\"black\",font=\"Rockwell 25 bold\")\n",
    "label.pack(pady=15,)\n",
    "\n",
    "siparis.mainloop()"
   ]
  },
  {
   "cell_type": "code",
   "execution_count": 104,
   "id": "1520c843",
   "metadata": {},
   "outputs": [
    {
     "data": {
      "text/plain": [
       "<matplotlib.image.AxesImage at 0x2b0308445b0>"
      ]
     },
     "execution_count": 104,
     "metadata": {},
     "output_type": "execute_result"
    },
    {
     "data": {
      "image/png": "[encoded data removed]",
      "text/plain": [
       "<Figure size 432x288 with 1 Axes>"
      ]
     },
     "metadata": {
      "needs_background": "light"
     },
     "output_type": "display_data"
    }
   ],
   "source": [
    "img = cv.imread(\"3.png\")\n",
    "img = cv.cvtColor(img,cv.COLOR_BGR2RGB)\n",
    "plt.imshow(img)"
   ]
  },
  {
   "cell_type": "markdown",
   "id": "a4e071eb",
   "metadata": {},
   "source": [
    "Şimdi pizzaları ekleyelim"
   ]
  },
  {
   "cell_type": "code",
   "execution_count": 105,
   "id": "289dda12",
   "metadata": {},
   "outputs": [],
   "source": [
    "siparis = tk.Tk()\n",
    "siparis.title(\"Pizza Sipariş Ekranı\")\n",
    "siparis.geometry(\"800x500+80+110\")\n",
    "siparis.maxsize(800,600)\n",
    "siparis.config(bg=\"green\")\n",
    "\n",
    "label = tk.Label(siparis,text=\"⚛︎ Bilim Pizza Sipariş Noktası ⚛︎\",bg=\"orange\",fg=\"black\",font=\"Rockwell 25 bold\")\n",
    "label.pack(pady=15)\n",
    "\n",
    "pizza_sorusu = tk.Label(siparis,text=\"Almak istediğiniz pizzayı seçiniz :\",font=\"Impact 15 bold\",fg=\"black\",bg=\"green\")\n",
    "pizza_sorusu.pack(pady=7,anchor=\"center\")\n",
    "\n",
    "siparis.mainloop()"
   ]
  },
  {
   "cell_type": "code",
   "execution_count": 106,
   "id": "6db20796",
   "metadata": {},
   "outputs": [
    {
     "data": {
      "text/plain": [
       "<matplotlib.image.AxesImage at 0x2b0307f0460>"
      ]
     },
     "execution_count": 106,
     "metadata": {},
     "output_type": "execute_result"
    },
    {
     "data": {
      "image/png": "[encoded data removed]",
      "text/plain": [
       "<Figure size 432x288 with 1 Axes>"
      ]
     },
     "metadata": {
      "needs_background": "light"
     },
     "output_type": "display_data"
    }
   ],
   "source": [
    "img = cv.imread(\"4.png\")\n",
    "img = cv.cvtColor(img,cv.COLOR_BGR2RGB)\n",
    "plt.imshow(img)"
   ]
  },
  {
   "cell_type": "markdown",
   "id": "575c0272",
   "metadata": {},
   "source": [
    "Pizza değişkenlerini yazalım"
   ]
  },
  {
   "cell_type": "code",
   "execution_count": 67,
   "id": "474126a9",
   "metadata": {},
   "outputs": [],
   "source": [
    "siparis = tk.Tk()\n",
    "siparis.title(\"Pizza Sipariş Ekranı\")\n",
    "siparis.geometry(\"800x500+80+110\")\n",
    "siparis.maxsize(800,1000)\n",
    "siparis.config(bg=\"green\")\n",
    "\n",
    "label = tk.Label(siparis,text=\"⚛︎ Bilim Pizza Sipariş Noktası ⚛︎\",bg=\"orange\",fg=\"black\",font=\"Rockwell 25 bold\")\n",
    "label.pack(pady=15)\n",
    "\n",
    "label_ad = tk.Label(siparis,text=\"Ad Soyad :\",bg=\"green\",fg=\"black\",font=\"Times 12 bold\").place(x=50,y=100)\n",
    "entry_ad = tk.Entry().place(x=130, y=100)\n",
    "\n",
    "label_tc = tk.Label(siparis,text=\"TC kimlik no :\",bg=\"green\",fg=\"black\",font=\"Times 12 bold\").place(x=50,y=130)\n",
    "entry_ad = tk.Entry().place(x=150, y=130)\n",
    "\n",
    "label_adres = tk.Label(siparis,text=\"Adres :\",bg=\"green\",fg=\"black\",font=\"Times 12 bold\").place(x=50,y=160)\n",
    "entry_ad = tk.Entry().place(x=110, y=160)\n",
    "\n",
    "label_card_num = tk.Label(siparis,text=\"Kart Numarası :\",bg=\"green\",fg=\"black\",font=\"Times 12 bold\").place(x=50,y=190)\n",
    "entry_card_num = tk.Entry().place(x=170,y=190)\n",
    "\n",
    "label_card_cvv = tk.Label(siparis,text=\"Kart cvv :\",bg=\"green\",fg=\"black\",font=\"Times 12 bold\").place(x=50,y=220)\n",
    "entry_card_cvv = tk.Entry().place(x=130,y=220)\n",
    "\n",
    "pizza_sorusu = tk.Label(siparis,text=\"Almak istediğiniz pizzayı seçiniz :\",font=\"Impact 15 bold\",fg=\"black\",bg=\"green\")\n",
    "pizza_sorusu.pack(pady=180,anchor=\"center\")\n",
    "\n",
    "rad_klasik = tk.Radiobutton(siparis,text =\"Klasik Pizza\",activebackground=\"green\",bg=\"green\").place(x = 50 ,y=300)\n",
    "\n",
    "rad_margherita = tk.Radiobutton(siparis,text =\"Margherita Pizza\",activebackground=\"green\",bg=\"green\").place(x = 150 ,y=300)\n",
    "\n",
    "rad_turk = tk.Radiobutton(siparis,text =\"Türk Pizza\",activebackground=\"green\",bg=\"green\").place(x = 270 ,y=300)\n",
    "\n",
    "rad_dominos = tk.Radiobutton(siparis,text =\"Dominos Pizza\",activebackground=\"green\",bg=\"green\").place(x =360 ,y=300)\n",
    "\n",
    "rad_vegan = tk.Radiobutton(siparis,text =\"Vegan Pizza\",activebackground=\"green\",bg=\"green\").place(x = 470 ,y=300)\n",
    "\n",
    "sos_sorusu = tk.Label(siparis,text=\"Almak istediğiniz ekstra sosu seçiniz :\",font=\"Impact 15 bold\",fg=\"black\",bg=\"green\")\n",
    "sos_sorusu.pack(pady=200,anchor=\"center\")\n",
    "\n",
    "siparis.mainloop()"
   ]
  },
  {
   "cell_type": "markdown",
   "id": "6a8e3bb0",
   "metadata": {},
   "source": [
    "bayağı bir işlem yaptık şimdi görüntüsünü çıkartalım"
   ]
  },
  {
   "cell_type": "code",
   "execution_count": 65,
   "id": "ca16a87c",
   "metadata": {},
   "outputs": [
    {
     "data": {
      "text/plain": [
       "<matplotlib.image.AxesImage at 0x245369fce80>"
      ]
     },
     "execution_count": 65,
     "metadata": {},
     "output_type": "execute_result"
    },
    {
     "data": {
      "image/png": "[encoded data removed]",
      "text/plain": [
       "<Figure size 432x288 with 1 Axes>"
      ]
     },
     "metadata": {
      "needs_background": "light"
     },
     "output_type": "display_data"
    }
   ],
   "source": [
    "img = cv.imread(\"5.png\")\n",
    "img = cv.cvtColor(img,cv.COLOR_BGR2RGB)\n",
    "plt.imshow(img)"
   ]
  },
  {
   "cell_type": "code",
   "execution_count": 85,
   "id": "cfd4cae3",
   "metadata": {},
   "outputs": [],
   "source": [
    "siparis = tk.Tk()\n",
    "siparis.title(\"Pizza Sipariş Ekranı\")\n",
    "siparis.geometry(\"800x500+80+110\")\n",
    "siparis.maxsize(800,1000)\n",
    "siparis.config(bg=\"green\")\n",
    "\n",
    "label = tk.Label(siparis,text=\"⚛︎ Bilim Pizza Sipariş Noktası ⚛︎\",bg=\"orange\",fg=\"black\",font=\"Rockwell 25 bold\")\n",
    "label.pack(pady=15)\n",
    "\n",
    "label_ad = tk.Label(siparis,text=\"Ad Soyad :\",bg=\"green\",fg=\"black\",font=\"Times 12 bold\").place(x=50,y=100)\n",
    "entry_ad = tk.Entry().place(x=130, y=100)\n",
    "\n",
    "label_tc = tk.Label(siparis,text=\"TC kimlik no :\",bg=\"green\",fg=\"black\",font=\"Times 12 bold\").place(x=50,y=130)\n",
    "entry_ad = tk.Entry().place(x=150, y=130)\n",
    "\n",
    "label_adres = tk.Label(siparis,text=\"Adres :\",bg=\"green\",fg=\"black\",font=\"Times 12 bold\").place(x=50,y=160)\n",
    "entry_ad = tk.Entry().place(x=110, y=160)\n",
    "\n",
    "label_card_num = tk.Label(siparis,text=\"Kart Numarası :\",bg=\"green\",fg=\"black\",font=\"Times 12 bold\").place(x=50,y=190)\n",
    "entry_card_num = tk.Entry().place(x=170,y=190)\n",
    "\n",
    "label_card_cvv = tk.Label(siparis,text=\"Kart cvv :\",bg=\"green\",fg=\"black\",font=\"Times 12 bold\").place(x=50,y=220)\n",
    "entry_card_cvv = tk.Entry().place(x=130,y=220)\n",
    "\n",
    "pizza_sorusu = tk.Label(siparis,text=\"Almak istediğiniz pizzayı ve sosları seçiniz :\",font=\"Impact 15 bold\",fg=\"black\",bg=\"green\")\n",
    "pizza_sorusu.pack(pady=180,anchor=\"center\")\n",
    "\n",
    "rad_klasik = tk.Radiobutton(siparis,text =\"Klasik Pizza\",activebackground=\"green\",bg=\"green\").place(x = 50 ,y=300)\n",
    "\n",
    "rad_margherita = tk.Radiobutton(siparis,text =\"Margherita Pizza\",activebackground=\"green\",bg=\"green\").place(x = 150 ,y=300)\n",
    "\n",
    "rad_turk = tk.Radiobutton(siparis,text =\"Türk Pizza\",activebackground=\"green\",bg=\"green\").place(x = 270 ,y=300)\n",
    "\n",
    "rad_dominos = tk.Radiobutton(siparis,text =\"Dominos Pizza\",bg=\"green\").place(x =360 ,y=300)\n",
    "\n",
    "rad_vegan = tk.Radiobutton(siparis,text =\"Vegan Pizza\",bg=\"green\").place(x = 470 ,y=300)\n",
    "\n",
    "zeytin = tk.StringVar()\n",
    "mantar = tk.StringVar()\n",
    "et = tk.StringVar()\n",
    "sogan = tk.StringVar()\n",
    "misir = tk.StringVar()\n",
    "\n",
    "check_zeytin = tk.Checkbutton(siparis,text=\"Zeytin\",variable=zeytin,onvalue=\"Zeytin\",bg=\"green\").place(x=50,y=350)\n",
    "\n",
    "check_mantar = tk.Checkbutton(siparis,text=\"Mantar\",variable=mantar,onvalue=\"Mantar\",bg=\"green\").place(x=150,y=350)\n",
    "\n",
    "check_et = tk.Checkbutton(siparis,text=\"Et\",variable=et,onvalue=\"Etli\",bg=\"green\").place(x=270,y=350)\n",
    "\n",
    "check_sogan = tk.Checkbutton(siparis,text=\"Soğan\",variable=sogan,onvalue=\"Soğanlı\",bg=\"green\").place(x=360,y=350)\n",
    "\n",
    "check_misir = tk.Checkbutton(siparis,text=\"Mısır\",variable=misir,onvalue=\"Mısırlı\",bg=\"green\").place(x=470,y=350)\n",
    "\n",
    "siparis.mainloop()"
   ]
  },
  {
   "cell_type": "markdown",
   "id": "52fa5e85",
   "metadata": {},
   "source": [
    "Yaptıklarımızı ekrana bastıralım"
   ]
  },
  {
   "cell_type": "code",
   "execution_count": 86,
   "id": "fc2a6bea",
   "metadata": {
    "scrolled": true
   },
   "outputs": [
    {
     "data": {
      "text/plain": [
       "<matplotlib.image.AxesImage at 0x245375ab100>"
      ]
     },
     "execution_count": 86,
     "metadata": {},
     "output_type": "execute_result"
    },
    {
     "data": {
      "image/png": "[encoded data removed]",
      "text/plain": [
       "<Figure size 432x288 with 1 Axes>"
      ]
     },
     "metadata": {
      "needs_background": "light"
     },
     "output_type": "display_data"
    }
   ],
   "source": [
    "img = cv.imread(\"6.png\")\n",
    "img = cv.cvtColor(img,cv.COLOR_BGR2RGB)\n",
    "plt.imshow(img)"
   ]
  },
  {
   "cell_type": "markdown",
   "id": "d278d589",
   "metadata": {},
   "source": [
    "Şimdi ise butonları yerleştirelimm"
   ]
  },
  {
   "cell_type": "code",
   "execution_count": 98,
   "id": "1f0ab49d",
   "metadata": {},
   "outputs": [],
   "source": [
    "siparis = tk.Tk()\n",
    "siparis.title(\"Pizza Sipariş Ekranı\")\n",
    "siparis.geometry(\"800x500+80+110\")\n",
    "siparis.maxsize(800,1000)\n",
    "siparis.config(bg=\"green\")\n",
    "\n",
    "label = tk.Label(siparis,text=\"⚛︎ Bilim Pizza Sipariş Noktası ⚛︎\",bg=\"orange\",fg=\"black\",font=\"Rockwell 25 bold\")\n",
    "label.pack(pady=15)\n",
    "\n",
    "label_ad = tk.Label(siparis,text=\"Ad Soyad :\",bg=\"green\",fg=\"black\",font=\"Times 12 bold\").place(x=50,y=100)\n",
    "entry_ad = tk.Entry().place(x=130, y=100)\n",
    "\n",
    "label_tc = tk.Label(siparis,text=\"TC kimlik no :\",bg=\"green\",fg=\"black\",font=\"Times 12 bold\").place(x=50,y=130)\n",
    "entry_ad = tk.Entry().place(x=150, y=130)\n",
    "\n",
    "label_adres = tk.Label(siparis,text=\"Adres :\",bg=\"green\",fg=\"black\",font=\"Times 12 bold\").place(x=50,y=160)\n",
    "entry_ad = tk.Entry().place(x=110, y=160)\n",
    "\n",
    "label_card_num = tk.Label(siparis,text=\"Kart Numarası :\",bg=\"green\",fg=\"black\",font=\"Times 12 bold\").place(x=50,y=190)\n",
    "entry_card_num = tk.Entry().place(x=170,y=190)\n",
    "\n",
    "label_card_cvv = tk.Label(siparis,text=\"Kart cvv :\",bg=\"green\",fg=\"black\",font=\"Times 12 bold\").place(x=50,y=220)\n",
    "entry_card_cvv = tk.Entry().place(x=130,y=220)\n",
    "\n",
    "pizza_sorusu = tk.Label(siparis,text=\"Almak istediğiniz pizzayı ve sosları seçiniz :\",font=\"Impact 15 bold\",fg=\"black\",bg=\"green\")\n",
    "pizza_sorusu.pack(pady=180,anchor=\"center\")\n",
    "\n",
    "rad_klasik = tk.Radiobutton(siparis,text =\"Klasik Pizza\",activebackground=\"green\",bg=\"green\").place(x = 50 ,y=300)\n",
    "\n",
    "rad_margherita = tk.Radiobutton(siparis,text =\"Margherita Pizza\",activebackground=\"green\",bg=\"green\").place(x = 150 ,y=300)\n",
    "\n",
    "rad_turk = tk.Radiobutton(siparis,text =\"Türk Pizza\",activebackground=\"green\",bg=\"green\").place(x = 270 ,y=300)\n",
    "\n",
    "rad_dominos = tk.Radiobutton(siparis,text =\"Dominos Pizza\",bg=\"green\").place(x =360 ,y=300)\n",
    "\n",
    "rad_vegan = tk.Radiobutton(siparis,text =\"Vegan Pizza\",bg=\"green\").place(x = 470 ,y=300)\n",
    "\n",
    "zeytin = tk.StringVar()\n",
    "mantar = tk.StringVar()\n",
    "et = tk.StringVar()\n",
    "sogan = tk.StringVar()\n",
    "misir = tk.StringVar()\n",
    "\n",
    "check_zeytin = tk.Checkbutton(siparis,text=\"Zeytin\",variable=zeytin,onvalue=\"Zeytin\",bg=\"green\").place(x=50,y=350)\n",
    "\n",
    "check_mantar = tk.Checkbutton(siparis,text=\"Mantar\",variable=mantar,onvalue=\"Mantar\",bg=\"green\").place(x=150,y=350)\n",
    "\n",
    "check_et = tk.Checkbutton(siparis,text=\"Et\",variable=et,onvalue=\"Etli\",bg=\"green\").place(x=270,y=350)\n",
    "\n",
    "check_sogan = tk.Checkbutton(siparis,text=\"Soğan\",variable=sogan,onvalue=\"Soğanlı\",bg=\"green\").place(x=360,y=350)\n",
    "\n",
    "check_misir = tk.Checkbutton(siparis,text=\"Mısır\",variable=misir,onvalue=\"Mısırlı\",bg=\"green\").place(x=470,y=350)\n",
    "\n",
    "def siparis_ver():\n",
    "    pass\n",
    "\n",
    "siparis_btn = tk.Button(siparis,text=\"Sipariş Ver\",bg=\"orange\",font=\"Times 12 bold\",command=siparis_ver).place(y=400,x=200)\n",
    "\n",
    "iptal_btn = tk.Button(siparis,text=\"İptal Et\",bg=\"orange\",font=\"Times 12 bold\",command=siparis_ver).place(y=400,x=400)\n",
    "\n",
    "siparis.mainloop()"
   ]
  },
  {
   "cell_type": "markdown",
   "id": "c568cbee",
   "metadata": {},
   "source": [
    "Şimdi butonlara bakalım"
   ]
  },
  {
   "cell_type": "code",
   "execution_count": 99,
   "id": "6725834c",
   "metadata": {
    "scrolled": true
   },
   "outputs": [
    {
     "data": {
      "text/plain": [
       "<matplotlib.image.AxesImage at 0x245372ccbe0>"
      ]
     },
     "execution_count": 99,
     "metadata": {},
     "output_type": "execute_result"
    },
    {
     "data": {
      "image/png": "[encoded data removed]",
      "text/plain": [
       "<Figure size 432x288 with 1 Axes>"
      ]
     },
     "metadata": {
      "needs_background": "light"
     },
     "output_type": "display_data"
    }
   ],
   "source": [
    "img = cv.imread(\"7.png\")\n",
    "img = cv.cvtColor(img,cv.COLOR_BGR2RGB)\n",
    "plt.imshow(img)"
   ]
  },
  {
   "cell_type": "code",
   "execution_count": 100,
   "id": "85f3e009",
   "metadata": {},
   "outputs": [],
   "source": [
    "siparis = tk.Tk()\n",
    "siparis.title(\"Pizza Sipariş Ekranı\")\n",
    "siparis.geometry(\"800x500+80+110\")\n",
    "siparis.maxsize(800,1000)\n",
    "siparis.config(bg=\"green\")\n",
    "\n",
    "label = tk.Label(siparis,text=\"⚛︎ Bilim Pizza Sipariş Noktası ⚛︎\",bg=\"orange\",fg=\"black\",font=\"Rockwell 25 bold\")\n",
    "label.pack(pady=15)\n",
    "\n",
    "label_ad = tk.Label(siparis,text=\"Ad Soyad :\",bg=\"green\",fg=\"black\",font=\"Times 12 bold\").place(x=50,y=100)\n",
    "entry_ad = tk.Entry().place(x=130, y=100)\n",
    "\n",
    "label_tc = tk.Label(siparis,text=\"TC kimlik no :\",bg=\"green\",fg=\"black\",font=\"Times 12 bold\").place(x=50,y=130)\n",
    "entry_ad = tk.Entry().place(x=150, y=130)\n",
    "\n",
    "label_adres = tk.Label(siparis,text=\"Adres :\",bg=\"green\",fg=\"black\",font=\"Times 12 bold\").place(x=50,y=160)\n",
    "entry_ad = tk.Entry().place(x=110, y=160)\n",
    "\n",
    "label_card_num = tk.Label(siparis,text=\"Kart Numarası :\",bg=\"green\",fg=\"black\",font=\"Times 12 bold\").place(x=50,y=190)\n",
    "entry_card_num = tk.Entry().place(x=170,y=190)\n",
    "\n",
    "label_card_cvv = tk.Label(siparis,text=\"Kart cvv :\",bg=\"green\",fg=\"black\",font=\"Times 12 bold\").place(x=50,y=220)\n",
    "entry_card_cvv = tk.Entry().place(x=130,y=220)\n",
    "\n",
    "pizza_sorusu = tk.Label(siparis,text=\"Almak istediğiniz pizzayı ve sosları seçiniz :\",font=\"Impact 15 bold\",fg=\"black\",bg=\"green\")\n",
    "pizza_sorusu.pack(pady=180,anchor=\"center\")\n",
    "\n",
    "rad_klasik = tk.Radiobutton(siparis,text =\"Klasik Pizza\",activebackground=\"green\",bg=\"green\").place(x = 50 ,y=300)\n",
    "\n",
    "rad_margherita = tk.Radiobutton(siparis,text =\"Margherita Pizza\",activebackground=\"green\",bg=\"green\").place(x = 150 ,y=300)\n",
    "\n",
    "rad_turk = tk.Radiobutton(siparis,text =\"Türk Pizza\",activebackground=\"green\",bg=\"green\").place(x = 270 ,y=300)\n",
    "\n",
    "rad_dominos = tk.Radiobutton(siparis,text =\"Dominos Pizza\",bg=\"green\").place(x =360 ,y=300)\n",
    "\n",
    "rad_vegan = tk.Radiobutton(siparis,text =\"Vegan Pizza\",bg=\"green\").place(x = 470 ,y=300)\n",
    "\n",
    "zeytin = tk.StringVar()\n",
    "mantar = tk.StringVar()\n",
    "et = tk.StringVar()\n",
    "sogan = tk.StringVar()\n",
    "misir = tk.StringVar()\n",
    "\n",
    "check_zeytin = tk.Checkbutton(siparis,text=\"Zeytin\",variable=zeytin,onvalue=\"Zeytin\",bg=\"green\").place(x=50,y=350)\n",
    "\n",
    "check_mantar = tk.Checkbutton(siparis,text=\"Mantar\",variable=mantar,onvalue=\"Mantar\",bg=\"green\").place(x=150,y=350)\n",
    "\n",
    "check_et = tk.Checkbutton(siparis,text=\"Et\",variable=et,onvalue=\"Etli\",bg=\"green\").place(x=270,y=350)\n",
    "\n",
    "check_sogan = tk.Checkbutton(siparis,text=\"Soğan\",variable=sogan,onvalue=\"Soğanlı\",bg=\"green\").place(x=360,y=350)\n",
    "\n",
    "check_misir = tk.Checkbutton(siparis,text=\"Mısır\",variable=misir,onvalue=\"Mısırlı\",bg=\"green\").place(x=470,y=350)\n",
    "\n",
    "def siparis_ver():\n",
    "    pass\n",
    "def iptal_et():\n",
    "    siparis.quit() #Formdan çıkış yapar\n",
    "\n",
    "\n",
    "siparis_btn = tk.Button(siparis,text=\"Sipariş Ver\",bg=\"orange\",font=\"Times 12 bold\",command=siparis_ver).place(y=400,x=200)\n",
    "\n",
    "iptal_btn = tk.Button(siparis,text=\"İptal Et\",bg=\"orange\",font=\"Times 12 bold\",command=iptal_et).place(y=400,x=400)\n",
    "\n",
    "siparis.mainloop()"
   ]
  },
  {
   "cell_type": "markdown",
   "id": "0e6a691f",
   "metadata": {},
   "source": [
    "Radio buttonların biir seçilmelidir"
   ]
  },
  {
   "cell_type": "code",
   "execution_count": 12,
   "id": "329ca78f",
   "metadata": {},
   "outputs": [],
   "source": [
    "siparis = tk.Tk()\n",
    "siparis.title(\"Pizza Sipariş Ekranı\")\n",
    "siparis.geometry(\"800x500+80+110\")\n",
    "siparis.maxsize(800,1000)\n",
    "siparis.config(bg=\"green\")\n",
    "\n",
    "label = tk.Label(siparis,text=\"⚛︎ Bilim Pizza Sipariş Noktası ⚛︎\",bg=\"orange\",fg=\"black\",font=\"Rockwell 25 bold\")\n",
    "label.pack(pady=15)\n",
    "\n",
    "label_ad = tk.Label(siparis,text=\"Ad Soyad :\",bg=\"green\",fg=\"black\",font=\"Times 12 bold\").place(x=50,y=100)\n",
    "entry_ad = tk.Entry().place(x=130, y=100)\n",
    "\n",
    "label_tc = tk.Label(siparis,text=\"TC kimlik no :\",bg=\"green\",fg=\"black\",font=\"Times 12 bold\").place(x=50,y=130)\n",
    "entry_ad = tk.Entry().place(x=150, y=130)\n",
    "\n",
    "label_adres = tk.Label(siparis,text=\"Adres :\",bg=\"green\",fg=\"black\",font=\"Times 12 bold\").place(x=50,y=160)\n",
    "entry_ad = tk.Entry().place(x=110, y=160)\n",
    "\n",
    "label_card_num = tk.Label(siparis,text=\"Kart Numarası :\",bg=\"green\",fg=\"black\",font=\"Times 12 bold\").place(x=50,y=190)\n",
    "entry_card_num = tk.Entry().place(x=170,y=190)\n",
    "\n",
    "label_card_cvv = tk.Label(siparis,text=\"Kart cvv :\",bg=\"green\",fg=\"black\",font=\"Times 12 bold\").place(x=50,y=220)\n",
    "entry_card_cvv = tk.Entry().place(x=130,y=220)\n",
    "\n",
    "pizza_sorusu = tk.Label(siparis,text=\"Almak istediğiniz pizzayı ve sosları seçiniz :\",font=\"Impact 15 bold\",fg=\"black\",bg=\"green\")\n",
    "pizza_sorusu.pack(pady=180,anchor=\"center\")\n",
    "\n",
    "deger = tk.StringVar()\n",
    "\n",
    "rad_klasik = tk.Radiobutton(siparis,text =\"Klasik Pizza\",activebackground=\"green\",bg=\"green\",value=\"Klasik\",variable=deger).place(x = 50 ,y=300)\n",
    "\n",
    "rad_margherita = tk.Radiobutton(siparis,text =\"Margherita Pizza\",activebackground=\"green\",bg=\"green\",value=\"Margherita\",variable=deger).place(x = 150 ,y=300)\n",
    "\n",
    "rad_turk = tk.Radiobutton(siparis,text =\"Türk Pizza\",activebackground=\"green\",bg=\"green\",value=\"Türk\",variable=deger).place(x = 270 ,y=300)\n",
    "\n",
    "rad_dominos = tk.Radiobutton(siparis,text =\"Dominos Pizza\",bg=\"green\",value=\"Dominos\",variable=deger).place(x =360 ,y=300)\n",
    "\n",
    "rad_vegan = tk.Radiobutton(siparis,text =\"Vegan Pizza\",bg=\"green\",value=\"Vegan\",variable=deger).place(x = 470 ,y=300)\n",
    "\n",
    "zeytin = tk.StringVar()\n",
    "mantar = tk.StringVar()\n",
    "et = tk.StringVar()\n",
    "sogan = tk.StringVar()\n",
    "misir = tk.StringVar()\n",
    "\n",
    "check_zeytin = tk.Checkbutton(siparis,text=\"Zeytin\",variable=zeytin,onvalue=\"Zeytin\",bg=\"green\").place(x=50,y=350)\n",
    "\n",
    "check_mantar = tk.Checkbutton(siparis,text=\"Mantar\",variable=mantar,onvalue=\"Mantar\",bg=\"green\").place(x=150,y=350)\n",
    "\n",
    "check_et = tk.Checkbutton(siparis,text=\"Et\",variable=et,onvalue=\"Etli\",bg=\"green\").place(x=270,y=350)\n",
    "\n",
    "check_sogan = tk.Checkbutton(siparis,text=\"Soğan\",variable=sogan,onvalue=\"Soğanlı\",bg=\"green\").place(x=360,y=350)\n",
    "\n",
    "check_misir = tk.Checkbutton(siparis,text=\"Mısır\",variable=misir,onvalue=\"Mısırlı\",bg=\"green\").place(x=470,y=350)\n",
    "\n",
    "def siparis_ver():\n",
    "    pass\n",
    "def iptal_et():\n",
    "    siparis.quit() #Formdan çıkış yapar\n",
    "\n",
    "\n",
    "siparis_btn = tk.Button(siparis,text=\"Sipariş Ver\",bg=\"orange\",font=\"Times 12 bold\",command=siparis_ver).place(y=400,x=200)\n",
    "\n",
    "iptal_btn = tk.Button(siparis,text=\"İptal Et\",bg=\"orange\",font=\"Times 12 bold\",command=iptal_et).place(y=400,x=400)\n",
    "\n",
    "siparis.mainloop()"
   ]
  },
  {
   "cell_type": "code",
   "execution_count": 13,
   "id": "52ca8385",
   "metadata": {
    "scrolled": true
   },
   "outputs": [
    {
     "data": {
      "text/plain": [
       "<matplotlib.image.AxesImage at 0x174aa0c31f0>"
      ]
     },
     "execution_count": 13,
     "metadata": {},
     "output_type": "execute_result"
    },
    {
     "data": {
      "image/png": "[encoded data removed]",
      "text/plain": [
       "<Figure size 432x288 with 1 Axes>"
      ]
     },
     "metadata": {
      "needs_background": "light"
     },
     "output_type": "display_data"
    }
   ],
   "source": [
    "img = cv.imread(\"8.png\")\n",
    "img = cv.cvtColor(img,cv.COLOR_BGR2RGB)\n",
    "plt.imshow(img)"
   ]
  },
  {
   "cell_type": "code",
   "execution_count": 2,
   "id": "b107a795",
   "metadata": {},
   "outputs": [],
   "source": [
    "siparis = tk.Tk()\n",
    "siparis.title(\"Pizza Sipariş Ekranı\")\n",
    "siparis.geometry(\"800x700+100+50\")\n",
    "siparis.maxsize(800,1500)\n",
    "siparis.config(bg=\"green\")\n",
    "\n",
    "label = tk.Label(siparis,text=\"⚛︎ Bilim Pizza Sipariş Noktası ⚛︎\",bg=\"orange\",fg=\"black\",font=\"Rockwell 25 bold\")\n",
    "label.pack(pady=15)\n",
    "\n",
    "label_ad = tk.Label(siparis,text=\"Ad Soyad :\",bg=\"green\",fg=\"black\",font=\"Times 12 bold\").place(x=50,y=100)\n",
    "entry_ad = tk.Entry().place(x=130, y=100)\n",
    "\n",
    "label_tc = tk.Label(siparis,text=\"TC kimlik no :\",bg=\"green\",fg=\"black\",font=\"Times 12 bold\").place(x=50,y=130)\n",
    "entry_ad = tk.Entry().place(x=150, y=130)\n",
    "\n",
    "label_adres = tk.Label(siparis,text=\"Adres :\",bg=\"green\",fg=\"black\",font=\"Times 12 bold\").place(x=50,y=160)\n",
    "entry_ad = tk.Entry().place(x=110, y=160)\n",
    "\n",
    "label_card_num = tk.Label(siparis,text=\"Kart Numarası :\",bg=\"green\",fg=\"black\",font=\"Times 12 bold\").place(x=50,y=190)\n",
    "entry_card_num = tk.Entry().place(x=170,y=190)\n",
    "\n",
    "label_card_cvv = tk.Label(siparis,text=\"Kart cvv :\",bg=\"green\",fg=\"black\",font=\"Times 12 bold\").place(x=50,y=220)\n",
    "entry_card_cvv = tk.Entry().place(x=130,y=220)\n",
    "\n",
    "pizza_sorusu = tk.Label(siparis,text=\"Almak istediğiniz pizzayı ve sosları seçiniz :\",font=\"Impact 15 bold\",fg=\"black\",bg=\"green\")\n",
    "pizza_sorusu.pack(pady=180,anchor=\"center\")\n",
    "\n",
    "deger = tk.StringVar()\n",
    "\n",
    "rad_klasik = tk.Radiobutton(siparis,text =\"Klasik Pizza\",activebackground=\"green\",bg=\"green\",value=\"Klasik\",variable=deger).place(x = 50 ,y=300)\n",
    "\n",
    "rad_margherita = tk.Radiobutton(siparis,text =\"Margherita Pizza\",activebackground=\"green\",bg=\"green\",value=\"Margherita\",variable=deger).place(x = 150 ,y=300)\n",
    "\n",
    "rad_turk = tk.Radiobutton(siparis,text =\"Türk Pizza\",activebackground=\"green\",bg=\"green\",value=\"Türk\",variable=deger).place(x = 270 ,y=300)\n",
    "\n",
    "rad_dominos = tk.Radiobutton(siparis,text =\"Dominos Pizza\",bg=\"green\",value=\"Dominos\",variable=deger).place(x =360 ,y=300)\n",
    "\n",
    "rad_vegan = tk.Radiobutton(siparis,text =\"Vegan Pizza\",bg=\"green\",value=\"Vegan\",variable=deger).place(x = 470 ,y=300)\n",
    "\n",
    "zeytin = tk.StringVar()\n",
    "mantar = tk.StringVar()\n",
    "et = tk.StringVar()\n",
    "sogan = tk.StringVar()\n",
    "misir = tk.StringVar()\n",
    "\n",
    "check_zeytin = tk.Checkbutton(siparis,text=\"Zeytin\",variable=zeytin,onvalue=\"Zeytin\",bg=\"green\").place(x=50,y=350)\n",
    "\n",
    "check_mantar = tk.Checkbutton(siparis,text=\"Mantar\",variable=mantar,onvalue=\"Mantar\",bg=\"green\").place(x=150,y=350)\n",
    "\n",
    "check_et = tk.Checkbutton(siparis,text=\"Et\",variable=et,onvalue=\"Etli\",bg=\"green\").place(x=270,y=350)\n",
    "\n",
    "check_sogan = tk.Checkbutton(siparis,text=\"Soğan\",variable=sogan,onvalue=\"Soğanlı\",bg=\"green\").place(x=360,y=350)\n",
    "\n",
    "check_misir = tk.Checkbutton(siparis,text=\"Mısır\",variable=misir,onvalue=\"Mısırlı\",bg=\"green\").place(x=470,y=350)\n",
    "\n",
    "def siparis_ver():\n",
    "    label_ad = tk.Label(siparis,text=\"Ad Soyad :\",bg=\"green\",fg=\"black\",font=\"Times 12 bold\").place(x=50,y=500)\n",
    "    label_tc = tk.Label(siparis,text=\"TC kimlik no :\",bg=\"green\",fg=\"black\",font=\"Times 12 bold\").place(x=50,y=550)\n",
    "    label_adres = tk.Label(siparis,text=\"Adres :\",bg=\"green\",fg=\"black\",font=\"Times 12 bold\").place(x=50,y=600)\n",
    "    \n",
    "def iptal_et():\n",
    "    siparis.quit() #Formdan çıkış yapar\n",
    "\n",
    "\n",
    "siparis_btn = tk.Button(siparis,text=\"Sipariş Ver\",bg=\"orange\",font=\"Times 12 bold\",command=siparis_ver).place(y=400,x=200)\n",
    "\n",
    "iptal_btn = tk.Button(siparis,text=\"İptal Et\",bg=\"orange\",font=\"Times 12 bold\",command=iptal_et).place(y=400,x=400)\n",
    "\n",
    "#Sipariş bilgileri\n",
    "label_bilgi = tk.Label(siparis,text=\"Sipariş bilgileri\",bg=\"green\",fg=\"black\",font=\"Rockwell 16 bold\").place(y=450,x=250)\n",
    "\n",
    "siparis.mainloop()"
   ]
  },
  {
   "cell_type": "markdown",
   "id": "d2fb080d",
   "metadata": {},
   "source": [
    "Şimdi sipariş bilgilerini aşağıya yazdıralım"
   ]
  },
  {
   "cell_type": "code",
   "execution_count": 3,
   "id": "4627c096",
   "metadata": {},
   "outputs": [
    {
     "data": {
      "text/plain": [
       "<matplotlib.image.AxesImage at 0x2020ecc5670>"
      ]
     },
     "execution_count": 3,
     "metadata": {},
     "output_type": "execute_result"
    },
    {
     "data": {
      "image/png": "[encoded data removed]",
      "text/plain": [
       "<Figure size 432x288 with 1 Axes>"
      ]
     },
     "metadata": {
      "needs_background": "light"
     },
     "output_type": "display_data"
    }
   ],
   "source": [
    "img = cv.imread(\"9.png\")\n",
    "img = cv.cvtColor(img,cv.COLOR_BGR2RGB)\n",
    "plt.imshow(img)"
   ]
  },
  {
   "cell_type": "markdown",
   "id": "23fece90",
   "metadata": {},
   "source": [
    "Butona basıldığında yukarıdaki çıktı çıkıyor"
   ]
  },
  {
   "cell_type": "markdown",
   "id": "7cb95f6d",
   "metadata": {},
   "source": [
    "Butona basılınca sipariş oluşturulsun"
   ]
  },
  {
   "cell_type": "code",
   "execution_count": 11,
   "id": "fd97ac2f",
   "metadata": {},
   "outputs": [],
   "source": [
    "from tkinter import messagebox"
   ]
  },
  {
   "cell_type": "code",
   "execution_count": 13,
   "id": "29a1a6ec",
   "metadata": {},
   "outputs": [],
   "source": [
    "siparis = tk.Tk()\n",
    "siparis.title(\"Pizza Sipariş Ekranı\")\n",
    "siparis.geometry(\"800x700+100+50\")\n",
    "siparis.maxsize(800,1500)\n",
    "siparis.config(bg=\"green\")\n",
    "\n",
    "label = tk.Label(siparis,text=\"⚛︎ Bilim Pizza Sipariş Noktası ⚛︎\",bg=\"orange\",fg=\"black\",font=\"Rockwell 25 bold\")\n",
    "label.pack(pady=15)\n",
    "\n",
    "label_ad = tk.Label(siparis,text=\"Ad Soyad :\",bg=\"green\",fg=\"black\",font=\"Times 12 bold\").place(x=50,y=100)\n",
    "entry_ad = tk.Entry().place(x=130, y=100)\n",
    "\n",
    "label_tc = tk.Label(siparis,text=\"TC kimlik no :\",bg=\"green\",fg=\"black\",font=\"Times 12 bold\").place(x=50,y=130)\n",
    "entry_ad = tk.Entry().place(x=150, y=130)\n",
    "\n",
    "label_adres = tk.Label(siparis,text=\"Adres :\",bg=\"green\",fg=\"black\",font=\"Times 12 bold\").place(x=50,y=160)\n",
    "entry_ad = tk.Entry().place(x=110, y=160)\n",
    "\n",
    "label_card_num = tk.Label(siparis,text=\"Kart Numarası :\",bg=\"green\",fg=\"black\",font=\"Times 12 bold\").place(x=50,y=190)\n",
    "entry_card_num = tk.Entry().place(x=170,y=190)\n",
    "\n",
    "label_card_cvv = tk.Label(siparis,text=\"Kart cvv :\",bg=\"green\",fg=\"black\",font=\"Times 12 bold\").place(x=50,y=220)\n",
    "entry_card_cvv = tk.Entry().place(x=130,y=220)\n",
    "\n",
    "pizza_sorusu = tk.Label(siparis,text=\"Almak istediğiniz pizzayı ve sosları seçiniz :\",font=\"Impact 15 bold\",fg=\"black\",bg=\"green\")\n",
    "pizza_sorusu.pack(pady=180,anchor=\"center\")\n",
    "\n",
    "deger = tk.StringVar()\n",
    "\n",
    "rad_klasik = tk.Radiobutton(siparis,text =\"Klasik Pizza\",activebackground=\"green\",bg=\"green\",value=\"Klasik\",variable=deger).place(x = 50 ,y=300)\n",
    "\n",
    "rad_margherita = tk.Radiobutton(siparis,text =\"Margherita Pizza\",activebackground=\"green\",bg=\"green\",value=\"Margherita\",variable=deger).place(x = 150 ,y=300)\n",
    "\n",
    "rad_turk = tk.Radiobutton(siparis,text =\"Türk Pizza\",activebackground=\"green\",bg=\"green\",value=\"Türk\",variable=deger).place(x = 270 ,y=300)\n",
    "\n",
    "rad_dominos = tk.Radiobutton(siparis,text =\"Dominos Pizza\",bg=\"green\",value=\"Dominos\",variable=deger).place(x =360 ,y=300)\n",
    "\n",
    "rad_vegan = tk.Radiobutton(siparis,text =\"Vegan Pizza\",bg=\"green\",value=\"Vegan\",variable=deger).place(x = 470 ,y=300)\n",
    "\n",
    "zeytin = tk.StringVar()\n",
    "mantar = tk.StringVar()\n",
    "et = tk.StringVar()\n",
    "sogan = tk.StringVar()\n",
    "misir = tk.StringVar()\n",
    "\n",
    "check_zeytin = tk.Checkbutton(siparis,text=\"Zeytin\",variable=zeytin,onvalue=\"Zeytin\",bg=\"green\").place(x=50,y=350)\n",
    "\n",
    "check_mantar = tk.Checkbutton(siparis,text=\"Mantar\",variable=mantar,onvalue=\"Mantar\",bg=\"green\").place(x=150,y=350)\n",
    "\n",
    "check_et = tk.Checkbutton(siparis,text=\"Et\",variable=et,onvalue=\"Etli\",bg=\"green\").place(x=270,y=350)\n",
    "\n",
    "check_sogan = tk.Checkbutton(siparis,text=\"Soğan\",variable=sogan,onvalue=\"Soğanlı\",bg=\"green\").place(x=360,y=350)\n",
    "\n",
    "check_misir = tk.Checkbutton(siparis,text=\"Mısır\",variable=misir,onvalue=\"Mısırlı\",bg=\"green\").place(x=470,y=350)\n",
    "\n",
    "def siparis_ver():\n",
    "    label_ad = tk.Label(siparis,text=\"Ad Soyad :\",bg=\"green\",fg=\"black\",font=\"Times 12 bold\").place(x=50,y=500)\n",
    "    label_tc = tk.Label(siparis,text=\"TC kimlik no :\",bg=\"green\",fg=\"black\",font=\"Times 12 bold\").place(x=50,y=550)\n",
    "    label_adres = tk.Label(siparis,text=\"Adres :\",bg=\"green\",fg=\"black\",font=\"Times 12 bold\").place(x=50,y=600)\n",
    "    \n",
    "def iptal_et():\n",
    "    siparis.quit() #Formdan çıkış yapar\n",
    "    \n",
    "def mesaj():\n",
    "    messagebox.showinfo(title=\"Bilim pizza sipariş onayı\",message=\"Kartınızdan ücret alınmış ve sipariş tamamlanmıştır\")\n",
    "    \n",
    "\n",
    "\n",
    "siparis_btn = tk.Button(siparis,text=\"Sipariş Ver\",bg=\"orange\",font=\"Times 12 bold\",command=mesaj).place(y=400,x=200)\n",
    "\n",
    "iptal_btn = tk.Button(siparis,text=\"İptal Et\",bg=\"orange\",font=\"Times 12 bold\",command=iptal_et).place(y=400,x=400)\n",
    "\n",
    "#Sipariş bilgileri\n",
    "label_bilgi = tk.Label(siparis,text=\"Sipariş bilgileri\",bg=\"green\",fg=\"black\",font=\"Rockwell 16 bold\").place(y=450,x=250)\n",
    "\n",
    "siparis.mainloop()"
   ]
  },
  {
   "cell_type": "code",
   "execution_count": 14,
   "id": "14b73afc",
   "metadata": {},
   "outputs": [
    {
     "data": {
      "text/plain": [
       "<matplotlib.image.AxesImage at 0x20212698eb0>"
      ]
     },
     "execution_count": 14,
     "metadata": {},
     "output_type": "execute_result"
    },
    {
     "data": {
      "image/png": "[encoded data removed]",
      "text/plain": [
       "<Figure size 432x288 with 1 Axes>"
      ]
     },
     "metadata": {
      "needs_background": "light"
     },
     "output_type": "display_data"
    }
   ],
   "source": [
    "img = cv.imread(\"10.png\")\n",
    "img = cv.cvtColor(img,cv.COLOR_BGR2RGB)\n",
    "plt.imshow(img)"
   ]
  },
  {
   "cell_type": "markdown",
   "id": "e5d99588",
   "metadata": {},
   "source": [
    "# CSV dosyası olarak kayıt etme işlemi"
   ]
  },
  {
   "cell_type": "code",
   "execution_count": 15,
   "id": "a3c6dcca",
   "metadata": {},
   "outputs": [],
   "source": [
    "import csv \n",
    "import datetime as dt"
   ]
  },
  {
   "cell_type": "code",
   "execution_count": 16,
   "id": "e840c018",
   "metadata": {},
   "outputs": [],
   "source": [
    "simdi = dt.datetime.now() \n",
    "zaman = dt.datetime.strftime(simdi, \"%d-%m-%Y %B %A %H:%M:%S\")"
   ]
  },
  {
   "cell_type": "markdown",
   "id": "793070db",
   "metadata": {},
   "source": [
    "simdi = datetime.now() şimdiki zamanı alır"
   ]
  },
  {
   "cell_type": "code",
   "execution_count": null,
   "id": "6cf61a05",
   "metadata": {},
   "outputs": [],
   "source": [
    "with open('Orders_Database.csv', mode='a', newline='') as file:\n",
    "        writer = csv.writer(file)\n",
    "        writer.writerow([tarih,adSoyad,telNo,adres,kartNo,self.pizzam.get_description(),self.pizzam.get_cost()])"
   ]
  },
  {
   "cell_type": "markdown",
   "id": "16aadb80",
   "metadata": {},
   "source": [
    "Yapısı ile csv açılıp kaydetme yapılabilir"
   ]
  },
  {
   "cell_type": "markdown",
   "id": "930071dd",
   "metadata": {},
   "source": [
    "Farklı olarak python ile yazılıp exe ye çevirdiğim uygulamayıda eklere ekliyorum"
   ]
  },
  {
   "cell_type": "markdown",
   "id": "8e993413",
   "metadata": {},
   "source": [
    "# İşlerin  yoğunluğundan başka tarz yapmaya zaman kalmamıştır :C"
   ]
  },
  {
   "cell_type": "code",
   "execution_count": 131,
   "id": "4ca9769b",
   "metadata": {},
   "outputs": [],
   "source": [
    "import csv \n",
    "import datetime as dt"
   ]
  },
  {
   "cell_type": "markdown",
   "id": "e2416ced",
   "metadata": {},
   "source": [
    "Öncelikle bir tane main fonksiyon yazalım projede belirtilen gibi"
   ]
  },
  {
   "cell_type": "code",
   "execution_count": 129,
   "id": "1d1b2ced",
   "metadata": {},
   "outputs": [],
   "source": [
    "def main():\n",
    "    pass"
   ]
  },
  {
   "cell_type": "markdown",
   "id": "2d4e126a",
   "metadata": {},
   "source": [
    "Şimdi bizim kodla kaydettiğimiz menu.txt okutalım menü olarak kullanalım lakin biz burada fazladan pizza ürettiğimiz için menüyü değiştirmeliyiz"
   ]
  },
  {
   "cell_type": "code",
   "execution_count": 1,
   "id": "ab2462ff",
   "metadata": {},
   "outputs": [],
   "source": [
    "with open('menu.txt', 'w',encoding=\"utf-8\") as menu:         #Dosyayı yarattık ve menu olarak içeri aktardık ki yazma yapalım\n",
    "    menu.write('* Lütfen Bir Pizza Tabanı Seçiniz: \\n')\n",
    "    menu.write('1: Klasik Pizza \\n')\n",
    "    menu.write('2: Margherita Pizza \\n')\n",
    "    menu.write('3: Türk Pizza \\n')\n",
    "    menu.write('4: Dominos Pizza \\n')\n",
    "    menu.write('5: Vegan Pizza \\n')\n",
    "    menu.write('* ve seçeceğiniz sos: \\n')\n",
    "    menu.write('11: Zeytin \\n')\n",
    "    menu.write('12: Mantarlar \\n')\n",
    "    menu.write('13: Keçi Peyniri \\n')\n",
    "    menu.write('14: Et \\n')\n",
    "    menu.write('15: Soğan \\n')\n",
    "    menu.write('16: Mısır \\n')\n",
    "    menu.write('* Teşekkür ederiz!')"
   ]
  },
  {
   "cell_type": "markdown",
   "id": "9401832a",
   "metadata": {},
   "source": [
    "Okutacağımız için kodu r olacaktır"
   ]
  },
  {
   "cell_type": "code",
   "execution_count": 2,
   "id": "d7302fb4",
   "metadata": {},
   "outputs": [
    {
     "name": "stdout",
     "output_type": "stream",
     "text": [
      "* LÃ¼tfen Bir Pizza TabanÄ± SeÃ§iniz: \n",
      "1: Klasik Pizza \n",
      "2: Margherita Pizza \n",
      "3: TÃ¼rk Pizza \n",
      "4: Dominos Pizza \n",
      "5: Vegan Pizza \n",
      "* ve seÃ§eceÄŸiniz sos: \n",
      "11: Zeytin \n",
      "12: Mantarlar \n",
      "13: KeÃ§i Peyniri \n",
      "14: Et \n",
      "15: SoÄŸan \n",
      "16: MÄ±sÄ±r \n",
      "* TeÅŸekkÃ¼r ederiz!\n"
     ]
    }
   ],
   "source": [
    "with open(\"menu.txt\",\"r\") as menu:\n",
    "    menu = menu.read()\n",
    "print(menu)"
   ]
  },
  {
   "cell_type": "markdown",
   "id": "b14e671b",
   "metadata": {},
   "source": [
    "Farktettiysek üstteki gibi türkçe karakterler gözükmedi hadi utf-8 kullanalım "
   ]
  },
  {
   "cell_type": "code",
   "execution_count": 3,
   "id": "b49bd5dd",
   "metadata": {},
   "outputs": [
    {
     "name": "stdout",
     "output_type": "stream",
     "text": [
      "* Lütfen Bir Pizza Tabanı Seçiniz: \n",
      "1: Klasik Pizza \n",
      "2: Margherita Pizza \n",
      "3: Türk Pizza \n",
      "4: Dominos Pizza \n",
      "5: Vegan Pizza \n",
      "* ve seçeceğiniz sos: \n",
      "11: Zeytin \n",
      "12: Mantarlar \n",
      "13: Keçi Peyniri \n",
      "14: Et \n",
      "15: Soğan \n",
      "16: Mısır \n",
      "* Teşekkür ederiz!\n"
     ]
    }
   ],
   "source": [
    "with open(\"menu.txt\",\"r\",encoding=\"utf-8\") as menu:\n",
    "    menu = menu.read()\n",
    "print(menu)"
   ]
  },
  {
   "cell_type": "markdown",
   "id": "c3e336ab",
   "metadata": {},
   "source": [
    "menumuz düzgünce ekrana basıldı hadi diğer işlemleri yapalım"
   ]
  },
  {
   "cell_type": "markdown",
   "id": "bbf8edb3",
   "metadata": {},
   "source": [
    "Sıra tabanlı seçim gibi buradaki numaraları seçerek işlem yapmalıyız"
   ]
  },
  {
   "cell_type": "code",
   "execution_count": 4,
   "id": "352a6911",
   "metadata": {},
   "outputs": [
    {
     "name": "stdout",
     "output_type": "stream",
     "text": [
      "Lütfen pizza türünüzün numarasnı giriniz:54\n"
     ]
    }
   ],
   "source": [
    "pizza_turu = input(\"Lütfen pizza türünüzün numarasnı giriniz:\")"
   ]
  },
  {
   "cell_type": "markdown",
   "id": "df8fe611",
   "metadata": {},
   "source": [
    "Döngü kurup döngü bir ifade girildiğinde döngüyü bitirmeliyiz"
   ]
  },
  {
   "cell_type": "code",
   "execution_count": 7,
   "id": "4818a107",
   "metadata": {},
   "outputs": [
    {
     "name": "stdout",
     "output_type": "stream",
     "text": [
      "Lütfen pizza türünüzün numarasnı giriniz:6\n",
      "Lütfen geçerli bir pizza türü seçiniz (1-4): 4\n"
     ]
    }
   ],
   "source": [
    "    pizza_turu = input(\"Lütfen pizza türünüzün numarasnı giriniz:\")\n",
    "    while pizza_turu not in [\"1\",\"2\",\"3\",\"4\",\"5\"]:\n",
    "        pizza_turu = input(\"Geçerli bir pizza seçiniz :\")\n",
    "    pizza_turu = int(pizza_turu)"
   ]
  },
  {
   "cell_type": "markdown",
   "id": "49e0337f",
   "metadata": {},
   "source": [
    "Şimdi sos türü seçtirelim"
   ]
  },
  {
   "cell_type": "code",
   "execution_count": 8,
   "id": "111ea64a",
   "metadata": {},
   "outputs": [
    {
     "name": "stdout",
     "output_type": "stream",
     "text": [
      "Sos numarasını giriniz :5\n"
     ]
    }
   ],
   "source": [
    "sos_turu = input(\"Sos numarasını giriniz :\")"
   ]
  },
  {
   "cell_type": "markdown",
   "id": "7a06bbed",
   "metadata": {},
   "source": [
    "Döngü kuralım tekrardan"
   ]
  },
  {
   "cell_type": "code",
   "execution_count": 11,
   "id": "3d234060",
   "metadata": {},
   "outputs": [
    {
     "name": "stdout",
     "output_type": "stream",
     "text": [
      "Lütfen bir sos seçiniz (11-16): 1\n",
      "Geçerli bir sos seçiniz :15\n"
     ]
    }
   ],
   "source": [
    "    sos_turu = input(\"Lütfen bir sos seçiniz (11-16): \")\n",
    "    while sos_turu not in [\"11\",\"12\",\"13\",\"14\",\"15\",\"16\"]:\n",
    "        sos_turu = input(\"Geçerli bir sos seçiniz :\")\n",
    "    sos_turu = int(sos_turu)"
   ]
  },
  {
   "cell_type": "markdown",
   "id": "66d152d8",
   "metadata": {},
   "source": [
    "Şimdi şart bloklarıyla kullanıcı girişinden sonra seçimi yapalım"
   ]
  },
  {
   "cell_type": "code",
   "execution_count": null,
   "id": "3d5b9fde",
   "metadata": {},
   "outputs": [],
   "source": []
  },
  {
   "cell_type": "code",
   "execution_count": null,
   "id": "0c4a6467",
   "metadata": {},
   "outputs": [],
   "source": []
  }
 ],
 "metadata": {
  "kernelspec": {
   "display_name": "Python 3 (ipykernel)",
   "language": "python",
   "name": "python3"
  },
  "language_info": {
   "codemirror_mode": {
    "name": "ipython",
    "version": 3
   },
   "file_extension": ".py",
   "mimetype": "text/x-python",
   "name": "python",
   "nbconvert_exporter": "python",
   "pygments_lexer": "ipython3",
   "version": "3.9.12"
  },
  "vscode": {
   "interpreter": {
    "hash": "9488e715c7806852d81d7bf61346b861359ea805bfb994c46ea04796b0548662"
   }
  }
 },
 "nbformat": 4,
 "nbformat_minor": 5
}

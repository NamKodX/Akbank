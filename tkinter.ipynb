{
 "cells": [
  {
   "cell_type": "markdown",
   "id": "16251e9d",
   "metadata": {},
   "source": [
    "# Python Tkinter Notebook by NamKodX"
   ]
  },
  {
   "cell_type": "markdown",
   "id": "7f9035bb",
   "metadata": {},
   "source": [
    "# 1.Neden Tkinter?"
   ]
  },
  {
   "cell_type": "markdown",
   "id": "50f751da",
   "metadata": {},
   "source": [
    "### Neden görsel arayüz tasarlamalıyız?\n",
    "- Dikkat çekmek için\n",
    "- Programı pazarlamak için\n",
    "- Herkese hitap eden programlar tasarlamak için"
   ]
  },
  {
   "cell_type": "markdown",
   "id": "110e32a1",
   "metadata": {},
   "source": [
    "### Python arayüz tasarımı nasıl yapılabilir?\n",
    "- PyGTK\n",
    "- PyQt\n",
    "- wxPython\n",
    "- Tkinter"
   ]
  },
  {
   "cell_type": "markdown",
   "id": "e945a17c",
   "metadata": {},
   "source": [
    "### Neden tkinter?\n",
    "- Tkinter python ile beraber gelir herhangi kuruluma ihtiyaç olmaz\n",
    "- Python tarafından resmi olarak desteklenen bir arayüz takımıdır\n",
    "- Tkinter oldukça sağlam,kararlı ve oturmuş bir arayüz takımıdır ve oldukça basittir\n",
    "- Öteki seçeneklere göre çok daha temiz ve sade bir sözdizimi vardır"
   ]
  },
  {
   "cell_type": "markdown",
   "id": "4745b1fd",
   "metadata": {},
   "source": [
    "# 2.Pencere oluşturma, Label, Pencere başlığı ekleme"
   ]
  },
  {
   "cell_type": "markdown",
   "id": "41f65e4a",
   "metadata": {},
   "source": [
    "### Tkinter import etme"
   ]
  },
  {
   "cell_type": "code",
   "execution_count": 2,
   "id": "8854397b",
   "metadata": {},
   "outputs": [],
   "source": [
    "import tkinter as tk"
   ]
  },
  {
   "cell_type": "markdown",
   "id": "396f9c71",
   "metadata": {},
   "source": [
    "### İşlemlere başlama"
   ]
  },
  {
   "cell_type": "code",
   "execution_count": 8,
   "id": "e698829f",
   "metadata": {},
   "outputs": [],
   "source": [
    "form = tk.Tk()   # Sınıfı çağırdık"
   ]
  },
  {
   "cell_type": "markdown",
   "id": "97c484ad",
   "metadata": {},
   "source": [
    "Pencere açıldı ama ekranda duracak kadar zamanı yok o sebeple biz loopa sokmalıyız"
   ]
  },
  {
   "cell_type": "code",
   "execution_count": 9,
   "id": "c7cc56fa",
   "metadata": {},
   "outputs": [],
   "source": [
    "form.mainloop()   #Ekranı loopa soktuk"
   ]
  },
  {
   "cell_type": "markdown",
   "id": "11e9ed1f",
   "metadata": {},
   "source": [
    "Şimdi ise ekranın ismini değiştirelim"
   ]
  },
  {
   "cell_type": "code",
   "execution_count": null,
   "id": "8e317857",
   "metadata": {},
   "outputs": [],
   "source": [
    "form.title(\"Program adı\")"
   ]
  },
  {
   "cell_type": "markdown",
   "id": "ea017307",
   "metadata": {},
   "source": [
    "Çalışması için beraber tek kod satırında yazmalıyız"
   ]
  },
  {
   "cell_type": "code",
   "execution_count": 13,
   "id": "153c1f5e",
   "metadata": {},
   "outputs": [],
   "source": [
    "form = tk.Tk()          #Sınıfı çağırdık\n",
    "form.title(\"Programımız\")    #Pencere ismi verdik\n",
    "\n",
    "form.mainloop()         #Loopa soktuk"
   ]
  },
  {
   "cell_type": "markdown",
   "id": "24600416",
   "metadata": {},
   "source": [
    "Şimdi içerisine beraber yazı yazdıralım"
   ]
  },
  {
   "cell_type": "code",
   "execution_count": null,
   "id": "47ae5b22",
   "metadata": {},
   "outputs": [],
   "source": [
    "label = tk.Label(text=\"Tkinter Python\")"
   ]
  },
  {
   "cell_type": "markdown",
   "id": "580eb1ff",
   "metadata": {},
   "source": [
    "Çalışması için tek satırda yazmalıyız"
   ]
  },
  {
   "cell_type": "code",
   "execution_count": 16,
   "id": "261b5ba5",
   "metadata": {},
   "outputs": [],
   "source": [
    "form = tk.Tk()          #Sınıfı çağırdık\n",
    "form.title(\"Programımız\")    #Pencere ismi verdik\n",
    "label = tk.Label(text=\"Tkinter Python\")   #Text yazdırdık\n",
    "\n",
    "form.mainloop()         #Loopa soktuk"
   ]
  },
  {
   "cell_type": "markdown",
   "id": "739ff30c",
   "metadata": {},
   "source": [
    "Hala yazdırmadı çünkü bizim etikteti paket etmemiz gerekiyor içeriye"
   ]
  },
  {
   "cell_type": "code",
   "execution_count": null,
   "id": "f40471e2",
   "metadata": {},
   "outputs": [],
   "source": [
    "label.pack()"
   ]
  },
  {
   "cell_type": "code",
   "execution_count": 17,
   "id": "d05c1955",
   "metadata": {},
   "outputs": [],
   "source": [
    "form = tk.Tk()          #Sınıfı çağırdık\n",
    "form.title(\"Programımız\")    #Pencere ismi verdik\n",
    "label = tk.Label(text=\"Tkinter Python\")   #Text yazdırdık\n",
    "label.pack()                              #Etiketi paket ettik \n",
    "\n",
    "form.mainloop()         #Loopa soktuk"
   ]
  },
  {
   "cell_type": "markdown",
   "id": "b04a7d32",
   "metadata": {},
   "source": [
    "Şimdi farklı etiketler yapmayı deneyelim"
   ]
  },
  {
   "cell_type": "code",
   "execution_count": 19,
   "id": "d42cf91b",
   "metadata": {},
   "outputs": [],
   "source": [
    "form = tk.Tk()          #Sınıfı çağırdık\n",
    "form.title(\"Programımız\")    #Pencere ismi verdik\n",
    "label = tk.Label(text=\"Tkinter Python\")   #Text yazdırdık\n",
    "label2 = tk.Label(form,text=\"Python Tkinter Dersleri\")\n",
    "label.pack()                              #Etiketi paket ettik \n",
    "label2.pack()\n",
    "\n",
    "form.mainloop()         #Loopa soktuk"
   ]
  },
  {
   "cell_type": "markdown",
   "id": "e1b3997d",
   "metadata": {},
   "source": [
    "Genel yapısı  \n",
    "- label = tk.Label(Konumu,text=\"Yazılacak Text\")"
   ]
  },
  {
   "cell_type": "markdown",
   "id": "d1d81299",
   "metadata": {},
   "source": [
    "# 3.Label renkleri, Yazı tipleri, Font"
   ]
  },
  {
   "cell_type": "markdown",
   "id": "f669817e",
   "metadata": {},
   "source": [
    "### Tkinter import etme"
   ]
  },
  {
   "cell_type": "code",
   "execution_count": 21,
   "id": "e4049d13",
   "metadata": {},
   "outputs": [],
   "source": [
    "import tkinter as tk"
   ]
  },
  {
   "cell_type": "markdown",
   "id": "74d58037",
   "metadata": {},
   "source": [
    "### İşlemlere başlama"
   ]
  },
  {
   "cell_type": "code",
   "execution_count": 24,
   "id": "5cacd07b",
   "metadata": {},
   "outputs": [],
   "source": [
    "form = tk.Tk()\n",
    "form.title(\"Programımız\")\n",
    "label = tk.Label(form,text=\"Python Tkinter\")\n",
    "label.pack()\n",
    "label2 = tk.Label(form,text=\"Ders\",fg=\"red\")\n",
    "label2.pack()\n",
    "\n",
    "form.mainloop()"
   ]
  },
  {
   "cell_type": "markdown",
   "id": "95060c40",
   "metadata": {},
   "source": [
    "Farkettiyseniz yazı rengini değiştirdik"
   ]
  },
  {
   "cell_type": "markdown",
   "id": "f26f9f02",
   "metadata": {},
   "source": [
    "Genel yapısı\n",
    "- label = tk.Label(form,text=\"yazı\",fg=\"renk\")"
   ]
  },
  {
   "cell_type": "markdown",
   "id": "98b79a15",
   "metadata": {},
   "source": [
    "Şimdi de arkaplan resmi verelim"
   ]
  },
  {
   "cell_type": "code",
   "execution_count": 27,
   "id": "29499339",
   "metadata": {},
   "outputs": [],
   "source": [
    "form = tk.Tk()\n",
    "form.title(\"Programımız\")\n",
    "label = tk.Label(form,text=\"Python Tkinter\")\n",
    "label.pack()\n",
    "label2 = tk.Label(form,text=\"Python\",fg=\"red\")\n",
    "label2.pack()\n",
    "label3 = tk.Label(form,text=\"Tkinter\",fg=\"black\",bg=\"green\")\n",
    "label3.pack()\n",
    "\n",
    "form.mainloop()"
   ]
  },
  {
   "cell_type": "markdown",
   "id": "6f0f8cd6",
   "metadata": {},
   "source": [
    "Genel yapısı\n",
    "- label = tk.Label(form,text=\"yazı\",fg=\"renk\",bg=\"arkaplan_renk\")"
   ]
  },
  {
   "cell_type": "markdown",
   "id": "eebb3c54",
   "metadata": {},
   "source": [
    "Şimdi font ekleyip boyutunu, font ailesini ve yapısını değiştirelim"
   ]
  },
  {
   "cell_type": "code",
   "execution_count": 3,
   "id": "0b7696e9",
   "metadata": {},
   "outputs": [],
   "source": [
    "form = tk.Tk()\n",
    "form.title(\"Programımız\")\n",
    "label = tk.Label(form,text=\"Python Tkinter\")\n",
    "label.pack()\n",
    "label2 = tk.Label(form,text=\"Python\",fg=\"red\")\n",
    "label2.pack()\n",
    "label3 = tk.Label(form,text=\"Tkinter\",fg=\"black\",bg=\"green\")\n",
    "label3.pack()\n",
    "label4 = tk.Label(form,text=\"Dersler\",fg=\"blue\",bg=\"red\",font=\"Times 15 bold\")\n",
    "label4.pack()\n",
    "label5 = tk.Label(form,text=\"Ek Dersler\",fg=\"blue\",bg=\"red\",font=\"Times 15 italic\")\n",
    "label5.pack()\n",
    "\n",
    "form.mainloop()"
   ]
  },
  {
   "cell_type": "markdown",
   "id": "7f75807f",
   "metadata": {},
   "source": [
    "Genel yapısı\n",
    "- label = tk.Label(form,text=\"yazı\",fg=\"renk\",bg=\"arkaplan_renk\",font=\"font_ailesi boyutu(sayı) font_yapısı(italic,bold...)\")"
   ]
  },
  {
   "cell_type": "markdown",
   "id": "056dd493",
   "metadata": {},
   "source": [
    "# 4.Pencere Boyutlandırma"
   ]
  },
  {
   "cell_type": "markdown",
   "id": "2e96beaa",
   "metadata": {},
   "source": [
    "### Tkinter import etme"
   ]
  },
  {
   "cell_type": "code",
   "execution_count": 21,
   "id": "6af243e8",
   "metadata": {},
   "outputs": [],
   "source": [
    "import tkinter as tk"
   ]
  },
  {
   "cell_type": "markdown",
   "id": "d10cdde9",
   "metadata": {},
   "source": [
    "### İşlemlere başlama"
   ]
  },
  {
   "cell_type": "markdown",
   "id": "36693c54",
   "metadata": {},
   "source": [
    "Şimdi pencereyi boyutlandıralım"
   ]
  },
  {
   "cell_type": "code",
   "execution_count": 38,
   "id": "891cb33c",
   "metadata": {},
   "outputs": [],
   "source": [
    "form = tk.Tk()\n",
    "form.title(\"Programımız\")\n",
    "form.geometry(\"500x250\")\n",
    "\n",
    "label = tk.Label(form,text=\"Dersler\")\n",
    "label.pack()\n",
    "\n",
    "form.mainloop()"
   ]
  },
  {
   "cell_type": "markdown",
   "id": "f5404028",
   "metadata": {},
   "source": [
    "Genel yapı \n",
    "- form.geometry(\"genişlik x yükseklik\")"
   ]
  },
  {
   "cell_type": "markdown",
   "id": "9858b751",
   "metadata": {},
   "source": [
    "Peki ortalamak istersek ne yapmalıyız"
   ]
  },
  {
   "cell_type": "code",
   "execution_count": 43,
   "id": "09e76cbe",
   "metadata": {},
   "outputs": [],
   "source": [
    "form = tk.Tk()\n",
    "form.title(\"Programımız\")\n",
    "form.geometry(\"500x250+500+350\")\n",
    "\n",
    "label = tk.Label(form,text=\"Dersler\")\n",
    "label.pack()\n",
    "\n",
    "form.mainloop()"
   ]
  },
  {
   "cell_type": "markdown",
   "id": "3184b1fa",
   "metadata": {},
   "source": [
    "Genel yapı\n",
    "- form.geometry(\"genişlik x yüksekli + x + y\")"
   ]
  },
  {
   "cell_type": "markdown",
   "id": "02d48fde",
   "metadata": {},
   "source": [
    "Peki belli boyuttan sonra ne büyüyüp ne küçülmesini istersek ne yapmalıyız"
   ]
  },
  {
   "cell_type": "markdown",
   "id": "a492d300",
   "metadata": {},
   "source": [
    "Şimdi beraber minimum ev maksimum boyut verelim"
   ]
  },
  {
   "cell_type": "code",
   "execution_count": 54,
   "id": "8818838d",
   "metadata": {},
   "outputs": [],
   "source": [
    "form = tk.Tk()\n",
    "form.title(\"Programımız\")\n",
    "form.geometry(\"500x400+500+250\") #Pencere boyutlandırma\n",
    "form.minsize(450,400)   #Minimum boyut veririz\n",
    "form.maxsize(550,550)   #Maksimum boyut veririz\n",
    "\n",
    "label = tk.Label(form,text=\"Dersler\")\n",
    "label.pack()\n",
    "\n",
    "form.mainloop()"
   ]
  },
  {
   "cell_type": "markdown",
   "id": "3476d610",
   "metadata": {},
   "source": [
    "Genel yapı\n",
    "- Minimum boyut = form.minsize(genişlik,yükseklik) \n",
    "- Maksimum boyut = form.maxsize(genişlik,yükseklik)  "
   ]
  },
  {
   "cell_type": "markdown",
   "id": "58794f82",
   "metadata": {},
   "source": [
    "Şimdi ise sabit boyut ayarlayalım"
   ]
  },
  {
   "cell_type": "markdown",
   "id": "00836c90",
   "metadata": {},
   "source": [
    "#### Dikey ve Yatay eksen sabit"
   ]
  },
  {
   "cell_type": "code",
   "execution_count": 55,
   "id": "0b5e02c6",
   "metadata": {},
   "outputs": [],
   "source": [
    "form = tk.Tk()\n",
    "form.title(\"Programımız\")\n",
    "form.geometry(\"500x400+500+250\") #Pencere boyutlandırma\n",
    "form.resizable(False,False)\n",
    "\n",
    "label = tk.Label(form,text=\"Dersler\")\n",
    "label.pack()\n",
    "\n",
    "form.mainloop()"
   ]
  },
  {
   "cell_type": "markdown",
   "id": "4b12319f",
   "metadata": {},
   "source": [
    "#### Yatay eksen sabit, Dikey eksen oynar"
   ]
  },
  {
   "cell_type": "code",
   "execution_count": null,
   "id": "85769274",
   "metadata": {},
   "outputs": [],
   "source": [
    "form = tk.Tk()\n",
    "form.title(\"Programımız\")\n",
    "form.geometry(\"500x400+500+250\") #Pencere boyutlandırma\n",
    "form.resizable(False,True)\n",
    "\n",
    "label = tk.Label(form,text=\"Dersler\")\n",
    "label.pack()\n",
    "\n",
    "form.mainloop()"
   ]
  },
  {
   "cell_type": "markdown",
   "id": "589c6edd",
   "metadata": {},
   "source": [
    "#### Dikey eksen sabit, Yatay Dikey eksen oynar"
   ]
  },
  {
   "cell_type": "code",
   "execution_count": 60,
   "id": "2e8f0501",
   "metadata": {},
   "outputs": [],
   "source": [
    "form = tk.Tk()\n",
    "form.title(\"Programımız\")\n",
    "form.geometry(\"500x400+500+250\") #Pencere boyutlandırma\n",
    "form.resizable(True,False)\n",
    "\n",
    "label = tk.Label(form,text=\"Dersler\")\n",
    "label.pack()\n",
    "\n",
    "form.mainloop()"
   ]
  },
  {
   "cell_type": "markdown",
   "id": "b2eb3dc1",
   "metadata": {},
   "source": [
    "Genel yapı\n",
    "- form.resizable(yatay oynanabilirlik,dikey oynanabilirlik)\n",
    "- True ya da False değerleri alabilir"
   ]
  },
  {
   "cell_type": "markdown",
   "id": "badf6591",
   "metadata": {},
   "source": [
    "# 5.Pencere durumları"
   ]
  },
  {
   "cell_type": "markdown",
   "id": "be311dd2",
   "metadata": {},
   "source": [
    "### Tkinter import etme"
   ]
  },
  {
   "cell_type": "code",
   "execution_count": 21,
   "id": "80164063",
   "metadata": {},
   "outputs": [],
   "source": [
    "import tkinter as tk"
   ]
  },
  {
   "cell_type": "markdown",
   "id": "e0a9a4be",
   "metadata": {},
   "source": [
    "### İşlemlere başlama"
   ]
  },
  {
   "cell_type": "code",
   "execution_count": 65,
   "id": "a129157a",
   "metadata": {},
   "outputs": [],
   "source": [
    "form = tk.Tk()\n",
    "form.geometry(\"500x500+350+250\")\n",
    "form.title(\"Programımız\")\n",
    "\n",
    "form.state(\"normal\")\n",
    "\n",
    "form.mainloop()"
   ]
  },
  {
   "cell_type": "markdown",
   "id": "9e7d00b2",
   "metadata": {},
   "source": [
    "Genel durum\n",
    "- form.state(\"normal\") yazarsak normal şekilde pencere gelir"
   ]
  },
  {
   "cell_type": "code",
   "execution_count": 66,
   "id": "e953004b",
   "metadata": {},
   "outputs": [],
   "source": [
    "form = tk.Tk()\n",
    "form.geometry(\"500x500+350+250\")\n",
    "form.title(\"Programımız\")\n",
    "\n",
    "form.state(\"zoomed\")\n",
    "\n",
    "form.mainloop()"
   ]
  },
  {
   "cell_type": "markdown",
   "id": "e1489c52",
   "metadata": {},
   "source": [
    "Genel durum\n",
    "- form.state(\"zoomed\") yazarsak tam ekran olarak gelir"
   ]
  },
  {
   "cell_type": "code",
   "execution_count": 80,
   "id": "75e31bd0",
   "metadata": {},
   "outputs": [],
   "source": [
    "form = tk.Tk()\n",
    "form.geometry(\"500x500+350+250\")\n",
    "form.title(\"Programımız\")\n",
    "\n",
    "form.state(\"iconic\")\n",
    "\n",
    "form.mainloop()"
   ]
  },
  {
   "cell_type": "markdown",
   "id": "d09f9a43",
   "metadata": {},
   "source": [
    "Genel durum \n",
    "- form.state(\"iconic\") ikonik olarak ekran gelir"
   ]
  },
  {
   "cell_type": "markdown",
   "id": "e98af23b",
   "metadata": {},
   "source": [
    "Şimdi pencerenin saydamlığını ayarlayalım"
   ]
  },
  {
   "cell_type": "code",
   "execution_count": 78,
   "id": "d1985b85",
   "metadata": {},
   "outputs": [],
   "source": [
    "form = tk.Tk()\n",
    "form.geometry(\"500x500+350+250\")\n",
    "form.title(\"Programımız\")\n",
    "\n",
    "form.state(\"normal\")\n",
    "\n",
    "form.wm_attributes(\"-alpha\",0.3)\n",
    "\n",
    "form.mainloop()"
   ]
  },
  {
   "cell_type": "markdown",
   "id": "872a4558",
   "metadata": {},
   "source": [
    "Genel yapı \n",
    "- form.wm_attributes(\"-alpha\",0.3) saydamlık verir pencereye\n",
    "- form.wm_attributes(\"-alpha\",1)  normal saydamlığında\n",
    "- form.wm_attributes(\"-alpha\",0) tamamen görünmez pencere"
   ]
  },
  {
   "cell_type": "markdown",
   "id": "9f08720e",
   "metadata": {},
   "source": [
    "# 6.Butonlar "
   ]
  },
  {
   "cell_type": "markdown",
   "id": "03e7b84a",
   "metadata": {},
   "source": [
    "### Tkinter import etme"
   ]
  },
  {
   "cell_type": "code",
   "execution_count": 81,
   "id": "fd7c79c1",
   "metadata": {},
   "outputs": [],
   "source": [
    "import tkinter as tk"
   ]
  },
  {
   "cell_type": "markdown",
   "id": "eaff03c3",
   "metadata": {},
   "source": [
    "### İşlemlere başlama"
   ]
  },
  {
   "cell_type": "code",
   "execution_count": 92,
   "id": "436d9a5e",
   "metadata": {},
   "outputs": [],
   "source": [
    "def topla():\n",
    "    print(\"topla\")"
   ]
  },
  {
   "cell_type": "code",
   "execution_count": 94,
   "id": "98c3469d",
   "metadata": {},
   "outputs": [],
   "source": [
    "form = tk.Tk()\n",
    "form.geometry(\"500x500+350+250\")\n",
    "form.title(\"Programımız\")\n",
    "\n",
    "buton = tk.Button(form,text=\"Bana tıkla\",fg=\"black\",bg=\"green\",command=topla)\n",
    "buton.pack()\n",
    "\n",
    "form.mainloop()"
   ]
  },
  {
   "cell_type": "markdown",
   "id": "f11fdb3d",
   "metadata": {},
   "source": [
    "Genel yapı\n",
    "- buton = tk.Button(konum,text=\"yazı\",fg=\"yazı rengi\",bg=\"arkaplan rengi\",command=çalışacak komut fonksiyon)"
   ]
  },
  {
   "cell_type": "code",
   "execution_count": 96,
   "id": "9b475d19",
   "metadata": {},
   "outputs": [],
   "source": [
    "form = tk.Tk()\n",
    "form.geometry(\"500x500+350+250\")\n",
    "form.title(\"Programımız\")\n",
    "\n",
    "buton = tk.Button(form,text=\"Bana tıkla\",fg=\"black\",bg=\"green\",command=topla)\n",
    "buton.pack()\n",
    "buton2 = tk.Button(form,text=\"Bana tıkla 2\",command=topla)\n",
    "buton2.pack()\n",
    "\n",
    "form.mainloop()"
   ]
  },
  {
   "cell_type": "markdown",
   "id": "0fc0481c",
   "metadata": {},
   "source": [
    "İki butonu alt alta yazdırdık şimdi ise butonları yan yana getirelim "
   ]
  },
  {
   "cell_type": "code",
   "execution_count": 109,
   "id": "1ffcce8f",
   "metadata": {},
   "outputs": [],
   "source": [
    "form = tk.Tk()\n",
    "form.geometry(\"500x500+350+250\")\n",
    "form.title(\"Programımız\")\n",
    "\n",
    "buton = tk.Button(form,text=\"Bana tıkla\",fg=\"black\",bg=\"green\",command=topla)\n",
    "buton.pack(side=tk.LEFT)\n",
    "buton2 = tk.Button(form,text=\"Bana tıkla 2\",command=topla)\n",
    "buton2.pack(side=tk.LEFT)\n",
    "\n",
    "form.mainloop()"
   ]
  },
  {
   "cell_type": "markdown",
   "id": "399c0f18",
   "metadata": {},
   "source": [
    "Paket ederken paket edilecek yeri de ayarlayabiliyoruz"
   ]
  },
  {
   "cell_type": "markdown",
   "id": "fffc415b",
   "metadata": {},
   "source": [
    "Genel yapı\n",
    "- buton.pack(side=tk.KONUM) \n",
    "- KONUM = LEFT,RİGHT,TOP,BOTTOM"
   ]
  },
  {
   "cell_type": "markdown",
   "id": "7145b64c",
   "metadata": {},
   "source": [
    "# 7.Tekrar - 1"
   ]
  },
  {
   "cell_type": "markdown",
   "id": "1aa1360f",
   "metadata": {},
   "source": [
    "### Kütüphane import etme"
   ]
  },
  {
   "cell_type": "code",
   "execution_count": 2,
   "id": "0b71da11",
   "metadata": {},
   "outputs": [],
   "source": [
    "import tkinter as tk\n",
    "import random as rd"
   ]
  },
  {
   "cell_type": "markdown",
   "id": "51a0b033",
   "metadata": {},
   "source": [
    "- 1-50 arasında 5 adet rastgele sayı üretip göster adındaki butona tıklandığında label'a yazdırsın değerleri saydamlaştır adında buton olup penceremizi saydamlaştırmaya yarasın\n",
    "- Eski haline döndürmek için Döndür butonu olsun\n",
    "- max yap,min yap butonları ile pencere boyutunu ayarlayabilelim"
   ]
  },
  {
   "cell_type": "markdown",
   "id": "3ac51f36",
   "metadata": {},
   "source": [
    "### İşlemlere başlama"
   ]
  },
  {
   "cell_type": "code",
   "execution_count": 13,
   "id": "f6709ef1",
   "metadata": {},
   "outputs": [],
   "source": [
    "form = tk.Tk()\n",
    "form.title(\"Tekrar Uygulaması\")\n",
    "form.geometry(\"500x400+500+350\")\n",
    "\n",
    "liste = []\n",
    "\n",
    "# 1-50 arasında 5 rastgele sayı üreten döngü\n",
    "for i in range(5):\n",
    "    while len(liste)!=6:\n",
    "        a=rd.randint(1,50)\n",
    "        if a not in liste:\n",
    "            liste.append(a)\n",
    "\n",
    "#Göstermek için fonksiyon\n",
    "def goster():\n",
    "    label.config(text=liste,bg=\"green\")\n",
    "\n",
    "#Saydamlaştırma için fonksiyon\n",
    "def saydamlastir():\n",
    "    form.wm_attributes(\"-alpha\",0.3)\n",
    "\n",
    "#Eski haline döndürmek için fonksiyon\n",
    "def dondur():\n",
    "    form.wm_attributes(\"-alpha\",0.9)\n",
    "\n",
    "#Pencere boyutu maksimum yapmak için fonksiyon    \n",
    "def MaxYap():\n",
    "    form.state(\"zoomed\")\n",
    " \n",
    "#Pencere boyutu minimum yapmak için fonksiyon \n",
    "def MinYap():\n",
    "    form.state(\"normal\")\n",
    "    \n",
    "#Gösterme butonu    \n",
    "goster = tk.Button(form,text=\"Göster\",fg=\"black\",bg=\"green\",command=goster)\n",
    "goster.pack()\n",
    "\n",
    "#Saydamlaştırma butonu\n",
    "saydamlastir = tk.Button(form,text=\"Saydamlaştir\",fg=\"black\",bg=\"green\",command=saydamlastir)\n",
    "saydamlastir.pack()\n",
    "\n",
    "#Döndürme butonu\n",
    "dondur = tk.Button(form,text=\"Döndür\",fg=\"black\",bg=\"green\",command=dondur)\n",
    "dondur.pack()\n",
    "\n",
    "#Maksimum yapma butonu\n",
    "MaxYap = tk.Button(form,text=\"MaxYap\",fg=\"black\",bg=\"green\",command=MaxYap)\n",
    "MaxYap.pack()\n",
    "\n",
    "#Minimum yapma butonu\n",
    "MinYap = tk.Button(form,text=\"MinYap\",fg=\"black\",bg=\"green\",command=MinYap)\n",
    "MinYap.pack()\n",
    "\n",
    "#Etiket yazdırma kısmı\n",
    "label = tk.Label(form,fg=\"red\",font=\"Times 20 bold\")    \n",
    "label.pack()\n",
    "    \n",
    "form.mainloop()"
   ]
  },
  {
   "cell_type": "markdown",
   "id": "fc4a8754",
   "metadata": {},
   "source": [
    "# 8.Entry"
   ]
  },
  {
   "cell_type": "markdown",
   "id": "2abe435c",
   "metadata": {},
   "source": [
    "### Tkinter import etme"
   ]
  },
  {
   "cell_type": "code",
   "execution_count": 14,
   "id": "11f508bd",
   "metadata": {},
   "outputs": [],
   "source": [
    "import tkinter as tk"
   ]
  },
  {
   "cell_type": "markdown",
   "id": "056a2b1c",
   "metadata": {},
   "source": [
    "### İşlemlere başlama"
   ]
  },
  {
   "cell_type": "markdown",
   "id": "4256d00c",
   "metadata": {},
   "source": [
    "Peki giriş almak için ne yapmalıyız"
   ]
  },
  {
   "cell_type": "code",
   "execution_count": 15,
   "id": "cabd99ea",
   "metadata": {},
   "outputs": [],
   "source": [
    "form = tk.Tk()\n",
    "\n",
    "form.title(\"Programımız\")\n",
    "form.geometry(\"500x450+250+250\")\n",
    "\n",
    "giris = tk.Entry(form,fg=\"white\",bg=\"red\")\n",
    "giris.pack()\n",
    "\n",
    "form.mainloop()"
   ]
  },
  {
   "cell_type": "markdown",
   "id": "026ad92d",
   "metadata": {},
   "source": [
    "Genel yapı\n",
    "- giris = tk.Entry(konum,fg=\"yazı rengi\",bg=\"arkaplan rengi\")"
   ]
  },
  {
   "cell_type": "code",
   "execution_count": 20,
   "id": "10a8c418",
   "metadata": {},
   "outputs": [],
   "source": [
    "form = tk.Tk()\n",
    "\n",
    "form.title(\"Programımız\")\n",
    "form.geometry(\"500x450+250+250\")\n",
    "\n",
    "giris = tk.Entry(fg=\"white\",bg=\"red\")\n",
    "giris.pack(side=tk.RIGHT)\n",
    "\n",
    "giris2 = tk.Entry(form,fg=\"black\",bg=\"green\")\n",
    "giris2.pack(side=tk.LEFT)\n",
    "\n",
    "form.mainloop()"
   ]
  },
  {
   "cell_type": "markdown",
   "id": "4b627239",
   "metadata": {},
   "source": [
    "# 9.Geometrik yöneticiler, Pack"
   ]
  },
  {
   "cell_type": "markdown",
   "id": "e995b0c1",
   "metadata": {},
   "source": [
    "- side : left-right-top-bottom\n",
    "- fill : X Y\n",
    "- expand : 0-1\n",
    "#### anchor:\n",
    "- n yukarı\n",
    "- s aşağı\n",
    "- e sağ\n",
    "- w sol\n",
    "- ne yukarı sağ\n",
    "- nw yukarı sol \n",
    "- se aşağı sağ\n",
    "- sw aşağı sol\n",
    "- center orta"
   ]
  },
  {
   "cell_type": "markdown",
   "id": "555593ff",
   "metadata": {},
   "source": [
    "### Tkinter import etme"
   ]
  },
  {
   "cell_type": "code",
   "execution_count": 21,
   "id": "ec924b92",
   "metadata": {},
   "outputs": [],
   "source": [
    "import tkinter as tk"
   ]
  },
  {
   "cell_type": "markdown",
   "id": "6152ab13",
   "metadata": {},
   "source": [
    "### İşlemlere başlama"
   ]
  },
  {
   "cell_type": "markdown",
   "id": "9aff4919",
   "metadata": {},
   "source": [
    "#### Fill"
   ]
  },
  {
   "cell_type": "code",
   "execution_count": 32,
   "id": "49dc8fb4",
   "metadata": {},
   "outputs": [],
   "source": [
    "form = tk.Tk()\n",
    "form.title(\"Programımız\")\n",
    "form.geometry(\"500x500\")\n",
    "\n",
    "label=tk.Label(text=\"Geometrik Yöneticiler\")\n",
    "label.pack(side=tk.TOP)\n",
    "\n",
    "buton=tk.Button(text=\"Pack()\",bg=\"red\")\n",
    "buton.pack(side=tk.BOTTOM,fill=tk.X)\n",
    "\n",
    "form.mainloop()"
   ]
  },
  {
   "cell_type": "markdown",
   "id": "2a2e3be6",
   "metadata": {},
   "source": [
    "Genel yapı\n",
    "- buton.pack(side=tk.SİDE,fill=tk.X ve ya Y)"
   ]
  },
  {
   "cell_type": "markdown",
   "id": "c32f0caa",
   "metadata": {},
   "source": [
    "fill komutu ile X yazarsak yatay olarak ekranı kaplar"
   ]
  },
  {
   "cell_type": "code",
   "execution_count": 35,
   "id": "11f81b6e",
   "metadata": {},
   "outputs": [],
   "source": [
    "form = tk.Tk()\n",
    "form.title(\"Programımız\")\n",
    "form.geometry(\"500x500\")\n",
    "\n",
    "label=tk.Label(text=\"Geometrik Yöneticiler\")\n",
    "label.pack(side=tk.TOP)\n",
    "\n",
    "buton=tk.Button(text=\"Pack()\",bg=\"red\")\n",
    "buton.pack(side=tk.LEFT,fill=tk.Y)\n",
    "\n",
    "form.mainloop()"
   ]
  },
  {
   "cell_type": "markdown",
   "id": "175e8554",
   "metadata": {},
   "source": [
    "fill komutu ile Y yazarsak dikey olarak ekranı kaplar."
   ]
  },
  {
   "cell_type": "markdown",
   "id": "63c82c99",
   "metadata": {},
   "source": [
    "#### Expand"
   ]
  },
  {
   "cell_type": "code",
   "execution_count": 41,
   "id": "f24617b7",
   "metadata": {},
   "outputs": [],
   "source": [
    "form = tk.Tk()\n",
    "form.title(\"Programımız\")\n",
    "form.geometry(\"500x500\")\n",
    "\n",
    "label=tk.Label(text=\"Geometrik Yöneticiler\")\n",
    "label.pack(side=tk.TOP)\n",
    "\n",
    "buton=tk.Button(text=\"Pack()\",bg=\"red\")\n",
    "buton.pack(side=tk.LEFT,fill=tk.Y,expand=tk.YES)\n",
    "\n",
    "form.mainloop()"
   ]
  },
  {
   "cell_type": "markdown",
   "id": "1564e341",
   "metadata": {},
   "source": [
    "expand=tk.YES ya da expand=1 yazarsak konum olarak ortalanmış olur"
   ]
  },
  {
   "cell_type": "code",
   "execution_count": 43,
   "id": "5da45098",
   "metadata": {},
   "outputs": [],
   "source": [
    "form = tk.Tk()\n",
    "form.title(\"Programımız\")\n",
    "form.geometry(\"500x500\")\n",
    "\n",
    "label=tk.Label(text=\"Geometrik Yöneticiler\")\n",
    "label.pack(side=tk.TOP)\n",
    "\n",
    "buton=tk.Button(text=\"Pack()\",bg=\"red\")\n",
    "buton.pack(side=tk.LEFT,fill=tk.Y,expand=tk.NO)\n",
    "\n",
    "form.mainloop()"
   ]
  },
  {
   "cell_type": "markdown",
   "id": "0c66ef1d",
   "metadata": {},
   "source": [
    "expand=tk.NO ya da expand=1 yazarsak normal konumda kalır,ortalama olmaz"
   ]
  },
  {
   "cell_type": "markdown",
   "id": "0b851286",
   "metadata": {},
   "source": [
    "#### Anchor"
   ]
  },
  {
   "cell_type": "code",
   "execution_count": 51,
   "id": "15181acd",
   "metadata": {},
   "outputs": [],
   "source": [
    "form = tk.Tk()\n",
    "form.title(\"Programımız\")\n",
    "form.geometry(\"500x500\")\n",
    "\n",
    "label=tk.Label(text=\"Geometrik Yöneticiler\")\n",
    "label.pack(side=tk.TOP)\n",
    "\n",
    "buton=tk.Button(text=\"Pack()\",bg=\"red\")\n",
    "buton.pack(expand=1,anchor=\"n\")  #Yukarı\n",
    "\n",
    "form.mainloop()"
   ]
  },
  {
   "cell_type": "code",
   "execution_count": 52,
   "id": "7c02d8eb",
   "metadata": {},
   "outputs": [],
   "source": [
    "form = tk.Tk()\n",
    "form.title(\"Programımız\")\n",
    "form.geometry(\"500x500\")\n",
    "\n",
    "label=tk.Label(text=\"Geometrik Yöneticiler\")\n",
    "label.pack(side=tk.TOP)\n",
    "\n",
    "buton=tk.Button(text=\"Pack()\",bg=\"red\")\n",
    "buton.pack(expand=1,anchor=\"s\")  #Aşağı\n",
    "\n",
    "form.mainloop()"
   ]
  },
  {
   "cell_type": "code",
   "execution_count": 53,
   "id": "582c387d",
   "metadata": {},
   "outputs": [],
   "source": [
    "form = tk.Tk()\n",
    "form.title(\"Programımız\")\n",
    "form.geometry(\"500x500\")\n",
    "\n",
    "label=tk.Label(text=\"Geometrik Yöneticiler\")\n",
    "label.pack(side=tk.TOP)\n",
    "\n",
    "buton=tk.Button(text=\"Pack()\",bg=\"red\")\n",
    "buton.pack(expand=1,anchor=\"e\")  #Sağ\n",
    "\n",
    "form.mainloop()"
   ]
  },
  {
   "cell_type": "code",
   "execution_count": 54,
   "id": "91183f94",
   "metadata": {},
   "outputs": [],
   "source": [
    "form = tk.Tk()\n",
    "form.title(\"Programımız\")\n",
    "form.geometry(\"500x500\")\n",
    "\n",
    "label=tk.Label(text=\"Geometrik Yöneticiler\")\n",
    "label.pack(side=tk.TOP)\n",
    "\n",
    "buton=tk.Button(text=\"Pack()\",bg=\"red\")\n",
    "buton.pack(expand=1,anchor=\"w\")  #Sol\n",
    "\n",
    "form.mainloop()"
   ]
  },
  {
   "cell_type": "code",
   "execution_count": 55,
   "id": "605f4e1a",
   "metadata": {},
   "outputs": [],
   "source": [
    "form = tk.Tk()\n",
    "form.title(\"Programımız\")\n",
    "form.geometry(\"500x500\")\n",
    "\n",
    "label=tk.Label(text=\"Geometrik Yöneticiler\")\n",
    "label.pack(side=tk.TOP)\n",
    "\n",
    "buton=tk.Button(text=\"Pack()\",bg=\"red\")\n",
    "buton.pack(expand=1,anchor=\"ne\")  #Yukarı Sağ\n",
    "\n",
    "form.mainloop()"
   ]
  },
  {
   "cell_type": "code",
   "execution_count": 57,
   "id": "c3b42120",
   "metadata": {},
   "outputs": [],
   "source": [
    "form = tk.Tk()\n",
    "form.title(\"Programımız\")\n",
    "form.geometry(\"500x500\")\n",
    "\n",
    "label=tk.Label(text=\"Geometrik Yöneticiler\")\n",
    "label.pack(side=tk.TOP)\n",
    "\n",
    "buton=tk.Button(text=\"Pack()\",bg=\"red\")\n",
    "buton.pack(expand=1,anchor=\"nw\")  #Yukarı Sol\n",
    "\n",
    "form.mainloop()"
   ]
  },
  {
   "cell_type": "code",
   "execution_count": 58,
   "id": "05b6a4b7",
   "metadata": {},
   "outputs": [],
   "source": [
    "form = tk.Tk()\n",
    "form.title(\"Programımız\")\n",
    "form.geometry(\"500x500\")\n",
    "\n",
    "label=tk.Label(text=\"Geometrik Yöneticiler\")\n",
    "label.pack(side=tk.TOP)\n",
    "\n",
    "buton=tk.Button(text=\"Pack()\",bg=\"red\")\n",
    "buton.pack(expand=1,anchor=\"se\")  #Aşağı Sağ\n",
    "\n",
    "form.mainloop()"
   ]
  },
  {
   "cell_type": "code",
   "execution_count": 60,
   "id": "59e5204c",
   "metadata": {},
   "outputs": [],
   "source": [
    "form = tk.Tk()\n",
    "form.title(\"Programımız\")\n",
    "form.geometry(\"500x500\")\n",
    "\n",
    "label=tk.Label(text=\"Geometrik Yöneticiler\")\n",
    "label.pack(side=tk.TOP)\n",
    "\n",
    "buton=tk.Button(text=\"Pack()\",bg=\"red\")\n",
    "buton.pack(expand=1,anchor=\"sw\")  #Aşağı Sol\n",
    "\n",
    "form.mainloop()"
   ]
  },
  {
   "cell_type": "markdown",
   "id": "b4e7b33d",
   "metadata": {},
   "source": [
    "Şimdi de x ve y ekseninde padding verelim"
   ]
  },
  {
   "cell_type": "code",
   "execution_count": 62,
   "id": "9492b734",
   "metadata": {},
   "outputs": [],
   "source": [
    "form = tk.Tk()\n",
    "form.title(\"Programımız\")\n",
    "form.geometry(\"500x500\")\n",
    "\n",
    "label=tk.Label(text=\"Geometrik Yöneticiler\")\n",
    "label.pack(side=tk.TOP)\n",
    "\n",
    "buton=tk.Button(text=\"Pack()\",bg=\"red\")\n",
    "buton.pack(expand=1,ipadx=\"50\",ipady=\"50\")  \n",
    "\n",
    "form.mainloop()"
   ]
  },
  {
   "cell_type": "markdown",
   "id": "a1a47822",
   "metadata": {},
   "source": [
    "Genel yapı\n",
    "- buton.pack(ipadx=\"x padding değeri\",ipady=\"y padding değeri\") "
   ]
  },
  {
   "cell_type": "markdown",
   "id": "d9cf22e8",
   "metadata": {},
   "source": [
    "# 10.Geometrik yöneticiler, Place"
   ]
  },
  {
   "cell_type": "markdown",
   "id": "9a9b8a8f",
   "metadata": {},
   "source": [
    "### Tkinter import etme"
   ]
  },
  {
   "cell_type": "code",
   "execution_count": 64,
   "id": "7d8d6fc3",
   "metadata": {},
   "outputs": [],
   "source": [
    "import tkinter as tk"
   ]
  },
  {
   "cell_type": "markdown",
   "id": "ba6f05e7",
   "metadata": {},
   "source": [
    "### İşlemlere başlama"
   ]
  },
  {
   "cell_type": "code",
   "execution_count": 69,
   "id": "dbe1ac90",
   "metadata": {},
   "outputs": [],
   "source": [
    "form = tk.Tk()\n",
    "form.title(\"Place\")\n",
    "form.geometry(\"500x450+250+250\")\n",
    "\n",
    "buton = tk.Button(text=\"Deneme\",fg=\"red\",bg=\"green\",font=\"Times 17 bold\")\n",
    "buton.place(x=150,y=150)\n",
    "\n",
    "form.mainloop()"
   ]
  },
  {
   "cell_type": "markdown",
   "id": "65264510",
   "metadata": {},
   "source": [
    "Butonu place ile de paketleyebiliriz bu bize x ve y konumunu belirtme olanağı sağlayacaktır"
   ]
  },
  {
   "cell_type": "markdown",
   "id": "52aec993",
   "metadata": {},
   "source": [
    "Lakin bu yapıda yaptığımızda buton ekran ile hareket etmez bunu bilerek hareket etmeliyiz"
   ]
  },
  {
   "cell_type": "markdown",
   "id": "1e5ca8b4",
   "metadata": {},
   "source": [
    "Genel yapı\n",
    "- buton.place(x=x mesafe,y=y mesafe)"
   ]
  },
  {
   "cell_type": "code",
   "execution_count": 72,
   "id": "864730c9",
   "metadata": {},
   "outputs": [],
   "source": [
    "form = tk.Tk()\n",
    "form.title(\"Place\")\n",
    "form.geometry(\"500x450+250+250\")\n",
    "\n",
    "buton = tk.Button(text=\"Deneme\",fg=\"red\",bg=\"green\",font=\"Times 17 bold\")\n",
    "buton.place(relx=0.5,rely=0.5)\n",
    "\n",
    "form.mainloop()"
   ]
  },
  {
   "cell_type": "markdown",
   "id": "c7a725a1",
   "metadata": {},
   "source": [
    "Pencereyle hareket etmesi için rel olarak yazmalıyız "
   ]
  },
  {
   "cell_type": "markdown",
   "id": "fd686e52",
   "metadata": {},
   "source": [
    "Genel yapı\n",
    "- buton.place(relx=sayı,rely=sayı)\n",
    "- İçeriğine yüzdelik olarak sayı alır"
   ]
  },
  {
   "cell_type": "markdown",
   "id": "8e565ee8",
   "metadata": {},
   "source": [
    "Genişlik ve yükseklik olarakta bastırmayı sağlayabiliriz"
   ]
  },
  {
   "cell_type": "code",
   "execution_count": 76,
   "id": "29f7f3cf",
   "metadata": {},
   "outputs": [],
   "source": [
    "form = tk.Tk()\n",
    "form.title(\"Place\")\n",
    "form.geometry(\"500x450+250+250\")\n",
    "\n",
    "buton = tk.Button(text=\"Deneme\",fg=\"red\",bg=\"green\",font=\"Times 17 bold\")\n",
    "buton.place(width=150,heigh=160)\n",
    "\n",
    "form.mainloop()"
   ]
  },
  {
   "cell_type": "markdown",
   "id": "862d5000",
   "metadata": {},
   "source": [
    "Genel yapı\n",
    "- buton.place(width=genişlik,heigh=yükseklik)"
   ]
  },
  {
   "cell_type": "markdown",
   "id": "f4c7803a",
   "metadata": {},
   "source": [
    "# 11.Entry'den veri çekmek, Veri silmek"
   ]
  },
  {
   "cell_type": "markdown",
   "id": "d046844e",
   "metadata": {},
   "source": [
    "### Tkinter import etme"
   ]
  },
  {
   "cell_type": "code",
   "execution_count": 2,
   "id": "20177f35",
   "metadata": {},
   "outputs": [],
   "source": [
    "import tkinter as tk"
   ]
  },
  {
   "cell_type": "markdown",
   "id": "9986b559",
   "metadata": {},
   "source": [
    "### İşlemlere başlama"
   ]
  },
  {
   "cell_type": "code",
   "execution_count": 10,
   "id": "1b5aa011",
   "metadata": {},
   "outputs": [],
   "source": [
    "form = tk.Tk()\n",
    "form.title(\"Entry\")\n",
    "form.geometry(\"500x300+250+250\")\n",
    "\n",
    "entry = tk.Entry()\n",
    "entry.pack(expand=1,anchor=\"center\")\n",
    "\n",
    "def verial():\n",
    "    label[\"text\"]=entry.get()\n",
    "\n",
    "def sil():\n",
    "    entry.delete(0,\"end\")\n",
    "\n",
    "label = tk.Label(text=\"Veriler buraya getirilsin\")\n",
    "label.pack(expand=1,anchor=\"center\")\n",
    "\n",
    "buton = tk.Button(text=\"Verileri al\",fg=\"white\",bg=\"blue\",command = verial)\n",
    "buton.pack(fill=tk.X)\n",
    "\n",
    "buton2 = tk.Button(text=\"Sil\",fg=\"white\",bg=\"red\",command = sil)\n",
    "buton2.pack(fill=tk.X)\n",
    "\n",
    "form.mainloop()"
   ]
  },
  {
   "cell_type": "markdown",
   "id": "9784e2d5",
   "metadata": {},
   "source": [
    "entryden veri silebiliriz\n",
    "- entry.delete(başlangıç,\"end\") "
   ]
  },
  {
   "cell_type": "markdown",
   "id": "bb300458",
   "metadata": {},
   "source": [
    "entrydeki verileri yazdırabiliriz\n",
    "- label[\"text\"]=entry.get()"
   ]
  },
  {
   "cell_type": "code",
   "execution_count": 9,
   "id": "209910ba",
   "metadata": {},
   "outputs": [],
   "source": [
    "form = tk.Tk()\n",
    "form.title(\"Entry\")\n",
    "form.geometry(\"500x300+250+250\")\n",
    "\n",
    "entry = tk.Entry(show=\"*\")\n",
    "entry.pack(expand=1,anchor=\"center\")\n",
    "\n",
    "def verial():\n",
    "    label[\"text\"]=entry.get()\n",
    "\n",
    "def sil():\n",
    "    entry.delete(0,\"end\")\n",
    "\n",
    "label = tk.Label(text=\"Veriler buraya getirilsin\")\n",
    "label.pack(expand=1,anchor=\"center\")\n",
    "\n",
    "buton = tk.Button(text=\"Verileri al\",fg=\"white\",bg=\"blue\",command = verial)\n",
    "buton.pack(fill=tk.X)\n",
    "\n",
    "buton2 = tk.Button(text=\"Sil\",fg=\"white\",bg=\"red\",command = sil)\n",
    "buton2.pack(fill=tk.X)\n"
   ]
  },
  {
   "cell_type": "markdown",
   "id": "64086a28",
   "metadata": {},
   "source": [
    "Genel yapı\n",
    "- entry = tk.Entry(show=\"*\")"
   ]
  },
  {
   "cell_type": "markdown",
   "id": "2916296d",
   "metadata": {},
   "source": [
    "show metodu ile yazarken gösterilecek karakteri ayarlayabiliriz.Mesela şifre girildiğinde gözükecek olan karakterler yazılı duruyor burada"
   ]
  },
  {
   "cell_type": "markdown",
   "id": "7f0259f8",
   "metadata": {},
   "source": [
    "# 12.Check Buton"
   ]
  },
  {
   "cell_type": "markdown",
   "id": "3b673902",
   "metadata": {},
   "source": [
    "### Tkinter import etme"
   ]
  },
  {
   "cell_type": "code",
   "execution_count": 2,
   "id": "93889546",
   "metadata": {},
   "outputs": [],
   "source": [
    "import tkinter as tk"
   ]
  },
  {
   "cell_type": "markdown",
   "id": "59b8ad20",
   "metadata": {},
   "source": [
    "### İşlemlere başlama"
   ]
  },
  {
   "cell_type": "code",
   "execution_count": 29,
   "id": "cab033e6",
   "metadata": {
    "scrolled": true
   },
   "outputs": [],
   "source": [
    "form = tk.Tk()\n",
    "\n",
    "form.title(\"Check Buton\")\n",
    "form.geometry(\"500x500\")\n",
    "\n",
    "x = tk.IntVar()\n",
    "x.set(0)\n",
    "\n",
    "def kontrol():\n",
    "    if x.get()==0:\n",
    "        print(\"Onaylanmadı\")\n",
    "    else:\n",
    "        print(\"Onaylandı\")\n",
    "\n",
    "check = tk.Checkbutton(form,text=\"Onayla\",fg=\"white\",bg=\"green\",variable=x,command=kontrol)\n",
    "check.pack()\n",
    "\n",
    "form.mainloop()"
   ]
  },
  {
   "cell_type": "markdown",
   "id": "bdd91736",
   "metadata": {},
   "source": [
    "Genel yapı\n",
    "- check = tk.Checkbutton(form,text=\"text\",fg=\"font rengi\",bg=\"arkaplan rengi\",variable=değer,command=fonksiyon)"
   ]
  },
  {
   "cell_type": "markdown",
   "id": "9fd9dbce",
   "metadata": {},
   "source": [
    "Checkbox ayarlayıp çeşitli işlemler yaptırabiliriz onaylama ve onaylamama durumunda"
   ]
  },
  {
   "cell_type": "markdown",
   "id": "52a30598",
   "metadata": {},
   "source": [
    "- x = tk.IntVar()\n",
    "- x.set(0) Sıfır yazarsak varsayılan olarak seçilmemiş olur"
   ]
  },
  {
   "cell_type": "markdown",
   "id": "237f3067",
   "metadata": {},
   "source": [
    "# 13.Radio Buton"
   ]
  },
  {
   "cell_type": "markdown",
   "id": "c4fbfe69",
   "metadata": {},
   "source": [
    "### Tkinter import etme"
   ]
  },
  {
   "cell_type": "code",
   "execution_count": 24,
   "id": "e0a30eaf",
   "metadata": {},
   "outputs": [],
   "source": [
    "import tkinter as tk"
   ]
  },
  {
   "cell_type": "markdown",
   "id": "da9395ee",
   "metadata": {},
   "source": [
    "### İşlemlere başlama"
   ]
  },
  {
   "cell_type": "code",
   "execution_count": 31,
   "id": "9dd33c19",
   "metadata": {},
   "outputs": [],
   "source": [
    "form = tk.Tk()\n",
    "form.geometry(\"500x450\")\n",
    "\n",
    "def kontrol():\n",
    "    if x.get()==\"1\":\n",
    "        print(\"buton1\")\n",
    "    elif x.get()==\"2\":\n",
    "        print(\"buton2\")\n",
    "    else:\n",
    "        print(\"buton1 ve buton2\")\n",
    "\n",
    "buton = tk.Button(form,text=\"Tıkla\",fg=\"black\",bg=\"red\",activebackground=\"green\",command=kontrol)\n",
    "buton.pack()\n",
    "\n",
    "x = tk.StringVar()\n",
    "\n",
    "radio = tk.Radiobutton(form,text=\"Radio1\",activebackground=\"red\",value=\"1\",variable=x)\n",
    "radio.pack()\n",
    "\n",
    "radio2 = tk.Radiobutton(form,text=\"Radio1\",activebackground=\"red\",value=\"2\",variable=x)\n",
    "radio2.pack()"
   ]
  },
  {
   "cell_type": "markdown",
   "id": "3b2b672f",
   "metadata": {},
   "source": [
    "Genel yapısı\n",
    "- radio2 = tk.Radiobutton(form,text=\"isim\",activebackground=\"arkaplan\",value=\"numarası\",variable=değer)"
   ]
  },
  {
   "cell_type": "markdown",
   "id": "38b3027b",
   "metadata": {},
   "source": [
    "# 14.MessageBox Çeşitleri"
   ]
  },
  {
   "cell_type": "markdown",
   "id": "74861a16",
   "metadata": {},
   "source": [
    "### Tkinter import etme"
   ]
  },
  {
   "cell_type": "code",
   "execution_count": 2,
   "id": "19de3c7c",
   "metadata": {},
   "outputs": [],
   "source": [
    "import tkinter as tk"
   ]
  },
  {
   "cell_type": "markdown",
   "id": "ab5b1694",
   "metadata": {},
   "source": [
    "Tkinter kütüphanesinde messagebox gelmiyor bu sebeple kütüphaneyi aşağıdaki şekilde import etmeliyiz "
   ]
  },
  {
   "cell_type": "code",
   "execution_count": 3,
   "id": "53ba1ec5",
   "metadata": {},
   "outputs": [],
   "source": [
    "from tkinter import * "
   ]
  },
  {
   "cell_type": "code",
   "execution_count": 4,
   "id": "bd7cc238",
   "metadata": {},
   "outputs": [],
   "source": [
    "from tkinter import messagebox"
   ]
  },
  {
   "cell_type": "markdown",
   "id": "f29b484a",
   "metadata": {},
   "source": [
    "### İşlemlere başlama"
   ]
  },
  {
   "cell_type": "code",
   "execution_count": 13,
   "id": "baee11c8",
   "metadata": {},
   "outputs": [],
   "source": [
    "form=tk.Tk()\n",
    "form.geometry(\"500x500\")\n",
    "form.title(\"Messagebox\")\n",
    "\n",
    "def mesaj():\n",
    "    messagebox.showinfo(title=\"Mesaj1\",message=\"Lütfem mesaja riayet edelim\")\n",
    "    messagebox.askretrycancel(title=\"Mesaj2\",message=\"Lütfen riayet et\")\n",
    "    messagebox.askyesno(title=\"mesaj3\",message=\"Artık evet hayır\")\n",
    "    messagebox.askquestion(title=\"mesaj4\",message=\"Son mesaj\")\n",
    "    \n",
    "buton = tk.Button(form,text=\"Mesaj gelsin\",fg=\"black\",bg=\"green\",command=mesaj)\n",
    "buton.pack()\n",
    "\n",
    "form.mainloop()"
   ]
  },
  {
   "cell_type": "markdown",
   "id": "9989285a",
   "metadata": {},
   "source": [
    "Mesaj kutusunun gelmesi için bir butona bağlayıp bir fonksiyon içerisine aktarmalıyız"
   ]
  },
  {
   "cell_type": "markdown",
   "id": "acf88eea",
   "metadata": {},
   "source": [
    "Genel yapı\n",
    "- messagebox.showinfo(title=\"Mesaj başlığı\",message=\"mesaj içeriği\")"
   ]
  },
  {
   "cell_type": "markdown",
   "id": "998ff6f2",
   "metadata": {},
   "source": [
    "Genel yapı\n",
    "-  messagebox.askretrycancel(title=\"Mesaj\",message=\"mesaj içeriği\")\n",
    "- Daha önemli mesaj"
   ]
  },
  {
   "cell_type": "markdown",
   "id": "271aa592",
   "metadata": {},
   "source": [
    "Genel yapı\n",
    "- messagebox.askyesno(title=\"mesaj başlığı\",message=\"mesaj içeriği\")\n",
    "- evet ve hayırlı mesaj "
   ]
  },
  {
   "cell_type": "markdown",
   "id": "45e87ea5",
   "metadata": {},
   "source": [
    "# 15.Combobox"
   ]
  },
  {
   "cell_type": "markdown",
   "id": "4f729fa4",
   "metadata": {},
   "source": [
    "Açılır kutu listesi demektir"
   ]
  },
  {
   "cell_type": "markdown",
   "id": "ff765dbe",
   "metadata": {},
   "source": [
    "### Tkinter import etme"
   ]
  },
  {
   "cell_type": "code",
   "execution_count": 15,
   "id": "5dacb7b7",
   "metadata": {},
   "outputs": [],
   "source": [
    "import tkinter as tk"
   ]
  },
  {
   "cell_type": "markdown",
   "id": "267534f9",
   "metadata": {},
   "source": [
    "Tkinter kütüphanesinde Combobox gelmiyor bu sebeple kütüphaneyi aşağıdaki şekilde import etmeliyiz "
   ]
  },
  {
   "cell_type": "code",
   "execution_count": 16,
   "id": "b8bd35f6",
   "metadata": {},
   "outputs": [],
   "source": [
    "from tkinter.ttk import Combobox"
   ]
  },
  {
   "cell_type": "markdown",
   "id": "b88bda3e",
   "metadata": {},
   "source": [
    "### İşlemlere başlama"
   ]
  },
  {
   "cell_type": "code",
   "execution_count": 17,
   "id": "93d7a0d0",
   "metadata": {},
   "outputs": [],
   "source": [
    "form = tk.Tk()\n",
    "form.geometry(\"450x450\")\n",
    "\n",
    "kutu = Combobox(form,values=(\"1\",\"2\",\"3\"))\n",
    "kutu.pack()\n",
    "\n",
    "form.mainloop()"
   ]
  },
  {
   "cell_type": "markdown",
   "id": "ead21b4b",
   "metadata": {},
   "source": [
    "Açılır liste şeklinde yazabiliriz biz ayriyetten liste yapıpta içeri aktarabiliriz"
   ]
  },
  {
   "cell_type": "code",
   "execution_count": 18,
   "id": "d254709e",
   "metadata": {},
   "outputs": [],
   "source": [
    "form = tk.Tk()\n",
    "form.geometry(\"450x450\")\n",
    "\n",
    "Python = [\"numpy\",\"pandas\",\"matplotlib\",\"seaborn\",\"tkinter\",\"opencv\"]\n",
    "kutu = Combobox(form,values=Python)\n",
    "kutu.pack()\n",
    "\n",
    "form.mainloop()"
   ]
  },
  {
   "cell_type": "markdown",
   "id": "1c100644",
   "metadata": {},
   "source": [
    "Genel yapı\n",
    "- kutu = Combobox(form,values=değer listesi)"
   ]
  },
  {
   "cell_type": "markdown",
   "id": "fd07e536",
   "metadata": {},
   "source": [
    "Birden çok veri olduğunda listede ilk birkaç değerin gözükmesi için height=sayı ayarlamalıyız"
   ]
  },
  {
   "cell_type": "markdown",
   "id": "287f4dea",
   "metadata": {},
   "source": [
    "Geri kalan veriler scroll olarak gelir"
   ]
  },
  {
   "cell_type": "code",
   "execution_count": 21,
   "id": "963ec23b",
   "metadata": {},
   "outputs": [],
   "source": [
    "form = tk.Tk()\n",
    "form.title(\"Combobox\")\n",
    "form.geometry(\"450x450\")\n",
    "\n",
    "Python = [\"numpy\",\"pandas\",\"matplotlib\",\"seaborn\",\"tkinter\",\"opencv\"]\n",
    "kutu = Combobox(form,values=Python,height=3)\n",
    "kutu.pack()\n",
    "\n",
    "form.mainloop()"
   ]
  },
  {
   "cell_type": "markdown",
   "id": "d0bcf8d3",
   "metadata": {},
   "source": [
    "Şimdi ise seçileni ekrana yazdıralım"
   ]
  },
  {
   "cell_type": "code",
   "execution_count": 25,
   "id": "994079e7",
   "metadata": {},
   "outputs": [],
   "source": [
    "form = tk.Tk()\n",
    "form.title(\"Combobox\")\n",
    "form.geometry(\"450x450\")\n",
    "\n",
    "def yazdir():\n",
    "    print(x.get())\n",
    "    #kutu.get() de çalışabilir \n",
    "\n",
    "x = tk.StringVar()\n",
    "Python = [\"numpy\",\"pandas\",\"matplotlib\",\"seaborn\",\"tkinter\",\"opencv\"]\n",
    "kutu = Combobox(form,values=Python,height=3,textvariable=x).pack()\n",
    "\n",
    "buton = tk.Button(form,text=\"yazdır\",command=yazdir)\n",
    "buton.pack()\n",
    "\n",
    "form.mainloop()"
   ]
  },
  {
   "cell_type": "markdown",
   "id": "7e60e94c",
   "metadata": {},
   "source": [
    "# 16.Pencere arkaplan değiştirme, Spinbox"
   ]
  },
  {
   "cell_type": "markdown",
   "id": "3117a226",
   "metadata": {},
   "source": [
    "Spinbox, döndürme kutusudur"
   ]
  },
  {
   "cell_type": "markdown",
   "id": "e6cf36ce",
   "metadata": {},
   "source": [
    "### Tkinter import etme"
   ]
  },
  {
   "cell_type": "code",
   "execution_count": 34,
   "id": "a3ddf773",
   "metadata": {},
   "outputs": [],
   "source": [
    "import tkinter as tk"
   ]
  },
  {
   "cell_type": "markdown",
   "id": "b2fb741a",
   "metadata": {},
   "source": [
    "### İşlemlere başlama"
   ]
  },
  {
   "cell_type": "markdown",
   "id": "deb07ba6",
   "metadata": {},
   "source": [
    "Genel yapı\n",
    "- config(bg=\"arkaplan rengi\",fg=\"text rengi\")\n",
    "- arkaplan işlemlerini yapabiliriz"
   ]
  },
  {
   "cell_type": "code",
   "execution_count": 29,
   "id": "22f6b021",
   "metadata": {},
   "outputs": [],
   "source": [
    "form = tk.Tk()\n",
    "form.title(\"spinbox\")\n",
    "form.geometry(\"400x400\")\n",
    "form.config(bg=\"pink\")\n",
    "\n",
    "spin = tk.Spinbox(form,from_=10,to=100).pack()\n",
    "\n",
    "form.mainloop()"
   ]
  },
  {
   "cell_type": "markdown",
   "id": "8059b519",
   "metadata": {},
   "source": [
    "Genel yapı\n",
    "- spin = tk.Spinbox(konum,from_=kaçtan,to=kaça)"
   ]
  },
  {
   "cell_type": "markdown",
   "id": "cf6c5b7f",
   "metadata": {},
   "source": [
    "Şimdi de içerisinden veri alalım"
   ]
  },
  {
   "cell_type": "code",
   "execution_count": 33,
   "id": "7013b541",
   "metadata": {},
   "outputs": [],
   "source": [
    "form = tk.Tk()\n",
    "form.title(\"spinbox\")\n",
    "form.geometry(\"400x400\")\n",
    "form.config(bg=\"pink\")\n",
    "\n",
    "def verial():\n",
    "    print(x.get())\n",
    "\n",
    "x=tk.IntVar()\n",
    "spin = tk.Spinbox(form,from_=10,to=20,textvariable=x).pack()\n",
    "\n",
    "buton = tk.Button(form,text=\"verial\",command=verial).pack()\n",
    "\n",
    "form.mainloop()"
   ]
  },
  {
   "cell_type": "markdown",
   "id": "0f1155f3",
   "metadata": {},
   "source": [
    "# 17.Scrollbar"
   ]
  },
  {
   "cell_type": "markdown",
   "id": "3493aca3",
   "metadata": {},
   "source": [
    "### Tkinter import etme"
   ]
  },
  {
   "cell_type": "code",
   "execution_count": 35,
   "id": "5acedc7f",
   "metadata": {},
   "outputs": [],
   "source": [
    "import tkinter as tk"
   ]
  },
  {
   "cell_type": "markdown",
   "id": "84f29360",
   "metadata": {},
   "source": [
    "### İşlemlere başlama"
   ]
  },
  {
   "cell_type": "code",
   "execution_count": 38,
   "id": "6cbd424a",
   "metadata": {},
   "outputs": [],
   "source": [
    "form = tk.Tk()\n",
    "form.title(\"Scrollbar\")\n",
    "form.geometry(\"500x500\")\n",
    "\n",
    "scrol = tk.Scrollbar()\n",
    "scrol.pack(side = tk.RIGHT,fill=tk.Y)\n",
    "\n",
    "form.mainloop()"
   ]
  },
  {
   "cell_type": "markdown",
   "id": "e58e2604",
   "metadata": {},
   "source": [
    "Scroll barı y ekseni yönünde ilerlesin yaptık ayrıca sağa koyduk istersek x eksenine de koyarız lakin bunun için aşağıya koymalıyız"
   ]
  },
  {
   "cell_type": "code",
   "execution_count": 39,
   "id": "c985909f",
   "metadata": {},
   "outputs": [],
   "source": [
    "form = tk.Tk()\n",
    "form.title(\"Scrollbar\")\n",
    "form.geometry(\"500x500\")\n",
    "\n",
    "scrol = tk.Scrollbar()\n",
    "scrol.pack(side = tk.BOTTOM,fill=tk.X)\n",
    "\n",
    "form.mainloop()"
   ]
  },
  {
   "cell_type": "markdown",
   "id": "4c145c4a",
   "metadata": {},
   "source": [
    "Biz bunu nasıl içeriye entegre edeceğiz"
   ]
  },
  {
   "cell_type": "code",
   "execution_count": 41,
   "id": "8d4a0148",
   "metadata": {},
   "outputs": [
    {
     "name": "stderr",
     "output_type": "stream",
     "text": [
      "Exception in Tkinter callback\n",
      "Traceback (most recent call last):\n",
      "  File \"C:\\ProgramData\\Anaconda3\\lib\\tkinter\\__init__.py\", line 1892, in __call__\n",
      "    return self.func(*args)\n",
      "TypeError: get() takes 1 positional argument but 3 were given\n"
     ]
    }
   ],
   "source": [
    "form = tk.Tk()\n",
    "form.title(\"Scrollbar\")\n",
    "form.geometry(\"500x500\")\n",
    "\n",
    "scrol = tk.Scrollbar()\n",
    "scrol.pack(side = tk.RIGHT,fill=tk.Y)\n",
    "\n",
    "listbox = tk.Listbox(form,yscrollcommand=scrol.get)\n",
    "\n",
    "for i in range(500):\n",
    "    listbox.insert(\"end\",\"Tkinter Dersleri \"+str(i))\n",
    "    \n",
    "listbox.pack(side=tk.LEFT)\n",
    "\n",
    "scrol.config(command=listbox.yview)\n",
    "\n",
    "form.mainloop()"
   ]
  },
  {
   "cell_type": "markdown",
   "id": "f69049ab",
   "metadata": {},
   "source": [
    "# 18.Toplevel"
   ]
  },
  {
   "cell_type": "markdown",
   "id": "4d3d31db",
   "metadata": {},
   "source": [
    "Amaç başka pencere oluşturmaktır"
   ]
  },
  {
   "cell_type": "markdown",
   "id": "6447c79c",
   "metadata": {},
   "source": [
    "Yeni bir pencereye yönlendirme işlemidir"
   ]
  },
  {
   "cell_type": "markdown",
   "id": "7dd6248e",
   "metadata": {},
   "source": [
    "### Tkinter import etme"
   ]
  },
  {
   "cell_type": "code",
   "execution_count": 35,
   "id": "5919fcd3",
   "metadata": {},
   "outputs": [],
   "source": [
    "import tkinter as tk"
   ]
  },
  {
   "cell_type": "markdown",
   "id": "35284181",
   "metadata": {},
   "source": [
    "### İşlemlere başlama"
   ]
  },
  {
   "cell_type": "code",
   "execution_count": 50,
   "id": "73a78909",
   "metadata": {},
   "outputs": [],
   "source": [
    "form = tk.Tk()\n",
    "form.geometry(\"250x250\")\n",
    "form.title(\"TopLevel\")\n",
    "\n",
    "toplevel = tk.Toplevel(bg=\"green\")\n",
    "toplevel.title(\"TopLevel2\")\n",
    "toplevel.geometry(\"300x300\")\n",
    "\n",
    "toplevel.mainloop()\n",
    "form.mainloop()"
   ]
  },
  {
   "cell_type": "markdown",
   "id": "80b39ec1",
   "metadata": {},
   "source": [
    "Bütün pencere özellikleri burada da geçerlidir"
   ]
  },
  {
   "cell_type": "markdown",
   "id": "07ad73b4",
   "metadata": {},
   "source": [
    "Ana pencere kapanırsa toplevel pencerede kapanır"
   ]
  },
  {
   "cell_type": "markdown",
   "id": "31fa6f66",
   "metadata": {},
   "source": [
    "Genel yapı\n",
    "- toplevel = tk.Toplevel(bg=\"renk\")\n",
    "- toplevel.title(\"başlık\")\n",
    "- toplevel.geometry(\"boyut\")"
   ]
  },
  {
   "cell_type": "markdown",
   "id": "7f293742",
   "metadata": {},
   "source": [
    "# 19.Text aracı"
   ]
  },
  {
   "cell_type": "markdown",
   "id": "5032aa9a",
   "metadata": {},
   "source": [
    "### Tkinter import etme"
   ]
  },
  {
   "cell_type": "code",
   "execution_count": 35,
   "id": "6b688e0e",
   "metadata": {},
   "outputs": [],
   "source": [
    "import tkinter as tk"
   ]
  },
  {
   "cell_type": "markdown",
   "id": "cc8c908f",
   "metadata": {},
   "source": [
    "### İşlemlere başlama"
   ]
  },
  {
   "cell_type": "code",
   "execution_count": 60,
   "id": "1e568437",
   "metadata": {},
   "outputs": [],
   "source": [
    "form = tk.Tk()\n",
    "form.geometry(\"400x400\")\n",
    "form.title(\"Text Aracı\")\n",
    "\n",
    "form.config(bg=\"blue\")\n",
    "\n",
    "text = tk.Text(form,width=30,heigh=50,padx=10,pady=10,bd=30,selectbackground=\"green\").pack()\n",
    "\n",
    "form.mainloop()"
   ]
  },
  {
   "cell_type": "markdown",
   "id": "087aed9e",
   "metadata": {},
   "source": [
    "Genel yapı\n",
    "- text = tk.Text(form,width=genişlik,heigh=yükseklik,padx=x paddding,pady=y paddding,bd=çerçeve derinliği,selectbackground=\"seçilince arkaplan\")"
   ]
  },
  {
   "cell_type": "markdown",
   "id": "6442b1e9",
   "metadata": {},
   "source": [
    "Label ve butonda kullanılan bütün özellikleri burada kullanabiliriz"
   ]
  },
  {
   "cell_type": "markdown",
   "id": "716222f3",
   "metadata": {},
   "source": [
    "# 20.Pencere araçlarına resim ekleme"
   ]
  },
  {
   "cell_type": "markdown",
   "id": "712d0698",
   "metadata": {},
   "source": [
    "### Tkinter import etme"
   ]
  },
  {
   "cell_type": "code",
   "execution_count": 35,
   "id": "b2ec5670",
   "metadata": {},
   "outputs": [],
   "source": [
    "import tkinter as tk"
   ]
  },
  {
   "cell_type": "markdown",
   "id": "8401dcd8",
   "metadata": {},
   "source": [
    "Fotoğraf yönetmek için farklı bir kütüphane kurmalıyız"
   ]
  },
  {
   "cell_type": "markdown",
   "id": "1c37256a",
   "metadata": {},
   "source": [
    "##### pip install pillow olarak kurmalıyız baştan"
   ]
  },
  {
   "cell_type": "code",
   "execution_count": 61,
   "id": "2c97df53",
   "metadata": {},
   "outputs": [],
   "source": [
    "from PIL import Image, ImageTk"
   ]
  },
  {
   "cell_type": "markdown",
   "id": "88137430",
   "metadata": {},
   "source": [
    "### İşlemlere başlama"
   ]
  },
  {
   "cell_type": "code",
   "execution_count": 67,
   "id": "0e38e3cc",
   "metadata": {},
   "outputs": [],
   "source": [
    "form = tk.Tk()\n",
    "\n",
    "resim = ImageTk.PhotoImage(Image.open(\"python.png\"))\n",
    "\n",
    "buton = tk.Button(form,image=resim,activebackground=\"green\")\n",
    "buton.pack()\n",
    "\n",
    "form.mainloop()"
   ]
  },
  {
   "cell_type": "markdown",
   "id": "dbd1ab83",
   "metadata": {},
   "source": [
    "Bu şekilde butona atama yapabiliriz"
   ]
  },
  {
   "cell_type": "code",
   "execution_count": 69,
   "id": "37a65c87",
   "metadata": {},
   "outputs": [],
   "source": [
    "form = tk.Tk()\n",
    "\n",
    "resim = ImageTk.PhotoImage(Image.open(\"python.png\"))\n",
    "\n",
    "label = tk.Label(form,image=resim).pack()\n",
    "\n",
    "form.mainloop()"
   ]
  },
  {
   "cell_type": "markdown",
   "id": "a2aeb5ed",
   "metadata": {},
   "source": [
    "Genel yapı\n",
    "- resim = ImageTk.PhotoImage(Image.open(\"resim.uzantı\"))"
   ]
  },
  {
   "cell_type": "code",
   "execution_count": null,
   "id": "d55488cf",
   "metadata": {},
   "outputs": [],
   "source": []
  }
 ],
 "metadata": {
  "kernelspec": {
   "display_name": "Python 3 (ipykernel)",
   "language": "python",
   "name": "python3"
  },
  "language_info": {
   "codemirror_mode": {
    "name": "ipython",
    "version": 3
   },
   "file_extension": ".py",
   "mimetype": "text/x-python",
   "name": "python",
   "nbconvert_exporter": "python",
   "pygments_lexer": "ipython3",
   "version": "3.9.12"
  },
  "vscode": {
   "interpreter": {
    "hash": "9488e715c7806852d81d7bf61346b861359ea805bfb994c46ea04796b0548662"
   }
  }
 },
 "nbformat": 4,
 "nbformat_minor": 5
}
